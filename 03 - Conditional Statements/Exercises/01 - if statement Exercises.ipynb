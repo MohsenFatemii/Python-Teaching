{
 "cells": [
  {
   "cell_type": "markdown",
   "id": "cafd3e31",
   "metadata": {},
   "source": [
    "### Problem 1\n",
    "\n",
    "write a program that takes a number as input, prints `even` if the number is even, otherwise prints `odd`.\n",
    "\n",
    "example input :\n",
    "\n",
    "`1`\n",
    "\n",
    "then the output should be:\n",
    "\n",
    "`odd`"
   ]
  },
  {
   "cell_type": "code",
   "execution_count": null,
   "id": "0d2c8f50",
   "metadata": {},
   "outputs": [],
   "source": [
    "# write your code here\n"
   ]
  },
  {
   "cell_type": "markdown",
   "id": "49c6a836",
   "metadata": {},
   "source": [
    "also write this program using a short-hand `if-else`."
   ]
  },
  {
   "cell_type": "code",
   "execution_count": null,
   "id": "2e6b21ad",
   "metadata": {},
   "outputs": [],
   "source": [
    "# write your code here, this time using a short-hand if-else\n"
   ]
  },
  {
   "cell_type": "markdown",
   "id": "8afc3dd9",
   "metadata": {},
   "source": [
    "### Problem 2\n",
    "\n",
    "write a program that takes a number as input, prints `yes` if number is divisible by `2` or `3`, otherwise prints `no`\n",
    "\n",
    "example input :\n",
    "\n",
    "`6`\n",
    "\n",
    "then the output should be:\n",
    "\n",
    "`yes`"
   ]
  },
  {
   "cell_type": "code",
   "execution_count": null,
   "id": "65f6a3f5",
   "metadata": {},
   "outputs": [],
   "source": [
    "# write your code here\n"
   ]
  },
  {
   "cell_type": "markdown",
   "id": "14c7ac66",
   "metadata": {},
   "source": [
    "### Problem 3\n",
    "\n",
    "write a program that takes a number as input, prints `yes` if number is divisible by `2` or `3` and is not divisible by `2` and `3` at the same time, otherwise prints `no`.\n",
    "\n",
    "example input :\n",
    "\n",
    "`6`\n",
    "\n",
    "then the output should be:\n",
    "\n",
    "`no`"
   ]
  },
  {
   "cell_type": "code",
   "execution_count": null,
   "id": "b31de62a",
   "metadata": {},
   "outputs": [],
   "source": [
    "# write your code here\n"
   ]
  },
  {
   "cell_type": "markdown",
   "id": "19cb861d",
   "metadata": {},
   "source": [
    "### Problem 4\n",
    "\n",
    "Assume that a number is given, using `nested if` write a program that satisfies the following instructions :\n",
    "\n",
    "- print `2` if the number is divisible by `2`.\n",
    "- print `3` if the number is divisible by `3`.\n",
    "- print `14` if the number is divisible by `2` and `7`.\n",
    "- print `15` if the number is divisible by `3` and `5`.\n",
    "\n",
    "example 1 :\n",
    "\n",
    "`2`\n",
    "\n",
    "output :\n",
    "\n",
    "`2`\n",
    "\n",
    "example 2 :\n",
    "\n",
    "`28`\n",
    "\n",
    "output :\n",
    "\n",
    "`2`\n",
    "\n",
    "`14`"
   ]
  },
  {
   "cell_type": "code",
   "execution_count": null,
   "id": "e5bec7ea",
   "metadata": {},
   "outputs": [],
   "source": [
    "# write your code here\n"
   ]
  },
  {
   "cell_type": "markdown",
   "id": "f4aa9c26",
   "metadata": {},
   "source": [
    "### Problem 5\n",
    "\n",
    "write a program that takes 2 numbers as input, then calculates the number of numbers between them.\n",
    "\n",
    "example input :\n",
    "\n",
    "`5`\n",
    "\n",
    "`9`\n",
    "\n",
    "then the output should be:\n",
    "\n",
    "`3`"
   ]
  },
  {
   "cell_type": "code",
   "execution_count": null,
   "id": "f5b12d23",
   "metadata": {},
   "outputs": [],
   "source": [
    "# write your code here\n"
   ]
  },
  {
   "cell_type": "markdown",
   "id": "8c02c4b0",
   "metadata": {},
   "source": [
    "### Problem 6\n",
    "\n",
    "write a program that takes 2 numbers `a`,`b` as input, then prints the min(`a`,`b`)\n",
    "\n",
    "example input :\n",
    "\n",
    "`5`\n",
    "\n",
    "`9`\n",
    "\n",
    "then the output should be:\n",
    "\n",
    "`5`"
   ]
  },
  {
   "cell_type": "code",
   "execution_count": null,
   "id": "37a67ee5",
   "metadata": {},
   "outputs": [],
   "source": [
    "# write your code here\n"
   ]
  },
  {
   "cell_type": "markdown",
   "id": "3367b2c5",
   "metadata": {},
   "source": [
    "### Problem 7\n",
    "\n",
    "write a program that takes 3 numbers `a`,`b` and `c` as input, then checks whether these 3 numbers can be the sides of a triangle or not. if they are the sides of a triangle, print `yes`, otherwise print `no`.\n",
    "\n",
    "example input :\n",
    "\n",
    "`3`\n",
    "\n",
    "`4`\n",
    "\n",
    "`6`\n",
    "\n",
    "then the output should be:\n",
    "\n",
    "`yes`"
   ]
  },
  {
   "cell_type": "code",
   "execution_count": null,
   "id": "a31688e4",
   "metadata": {},
   "outputs": [],
   "source": [
    "# write your code here\n"
   ]
  },
  {
   "cell_type": "markdown",
   "id": "322504dc",
   "metadata": {},
   "source": [
    "### Problem 8\n",
    "\n",
    "write a program that takes 3 numbers `a`,`b` and `c` as input, then checks whether these 3 numbers can be the sides of a **right triangle** or not. if they are the sides of a **right triangle**, print `yes`, otherwise print `no`.\n",
    "\n",
    "example input :\n",
    "\n",
    "`3`\n",
    "\n",
    "`4`\n",
    "\n",
    "`6`\n",
    "\n",
    "then the output should be:\n",
    "\n",
    "`no`"
   ]
  },
  {
   "cell_type": "code",
   "execution_count": null,
   "id": "56c2c5bb",
   "metadata": {},
   "outputs": [],
   "source": [
    "# write your code here\n"
   ]
  },
  {
   "cell_type": "markdown",
   "id": "0badc6d9",
   "metadata": {},
   "source": [
    "### Problem 9\n",
    "\n",
    "write a program that takes the score of a student as input, then calculate the `GPA` of that student by the checking the following conditions :\n",
    "\n",
    "- [16-20] &rarr; GPA = 4\n",
    "- [14-16) &rarr; GPA = 3\n",
    "- [12-14) &rarr; GPA = 2\n",
    "- [10-12) &rarr; GPA = 1\n",
    "- [0-10)  &rarr; GPA = 0\n",
    "\n",
    "example input :\n",
    "\n",
    "`18`\n",
    "\n",
    "then the output should be:\n",
    "\n",
    "`4`"
   ]
  },
  {
   "cell_type": "code",
   "execution_count": null,
   "id": "1635400a",
   "metadata": {},
   "outputs": [],
   "source": [
    "# write your code here\n"
   ]
  },
  {
   "cell_type": "markdown",
   "id": "a7353aa2",
   "metadata": {},
   "source": [
    "### Problem 10\n",
    "\n",
    "write a program that takes the weight and height of a person as input, calculate the `BMI` of that person. Then check the following conditions and print the requested outputs :\n",
    "\n",
    "<center>$BMI = \\dfrac{weight(kg)}{height^2(m)}$</center>\n",
    "\n",
    "- BMI < 18.5 &rarr; under weight\n",
    "- 18.5 $\\leq$ BMI < 25  &rarr; normal weight\n",
    "- 25 $\\leq$ BMI < 30  &rarr; over weight\n",
    "- 30 $\\leq$ BMI < 35  &rarr; obesity class 1\n",
    "- 35 $\\leq$ BMI &rarr; obesity class 2\n",
    "\n",
    "example input :\n",
    "\n",
    "`80`\n",
    "\n",
    "`190`\n",
    "\n",
    "then the output should be:\n",
    "\n",
    "`normal weight`"
   ]
  },
  {
   "cell_type": "code",
   "execution_count": null,
   "id": "c8c3d5b0",
   "metadata": {},
   "outputs": [],
   "source": [
    "# write your code here\n"
   ]
  },
  {
   "cell_type": "markdown",
   "id": "98f677e4",
   "metadata": {},
   "source": [
    "### Problem 11\n",
    "\n",
    "write a program that takes 2 numbers(`a`,`b`) as input, if the value of `a` is greater than `b` swap their value, then print them.\n",
    "\n",
    "example input :\n",
    "\n",
    "`8`\n",
    "\n",
    "`3`\n",
    "\n",
    "then the output should be:\n",
    "\n",
    "`3 8`"
   ]
  },
  {
   "cell_type": "code",
   "execution_count": null,
   "id": "784fd604",
   "metadata": {},
   "outputs": [],
   "source": [
    "# write your code here\n"
   ]
  },
  {
   "cell_type": "markdown",
   "id": "52f0b960",
   "metadata": {},
   "source": [
    "### Problem 12\n",
    "\n",
    "write a program that takes 3 numbers(`a`,`b`,`c`) as input, finds the largest number between them, then print it.\n",
    "\n",
    "example input :\n",
    "\n",
    "`1`\n",
    "\n",
    "`20`\n",
    "\n",
    "`5`\n",
    "\n",
    "then the output should be:\n",
    "\n",
    "`20`"
   ]
  },
  {
   "cell_type": "code",
   "execution_count": null,
   "id": "97c85f49",
   "metadata": {},
   "outputs": [],
   "source": [
    "# write your code here\n"
   ]
  },
  {
   "cell_type": "code",
   "execution_count": null,
   "id": "9b1190c6",
   "metadata": {},
   "outputs": [],
   "source": []
  }
 ],
 "metadata": {
  "kernelspec": {
   "display_name": "Python 3 (ipykernel)",
   "language": "python",
   "name": "python3"
  },
  "language_info": {
   "codemirror_mode": {
    "name": "ipython",
    "version": 3
   },
   "file_extension": ".py",
   "mimetype": "text/x-python",
   "name": "python",
   "nbconvert_exporter": "python",
   "pygments_lexer": "ipython3",
   "version": "3.10.11"
  }
 },
 "nbformat": 4,
 "nbformat_minor": 5
}
