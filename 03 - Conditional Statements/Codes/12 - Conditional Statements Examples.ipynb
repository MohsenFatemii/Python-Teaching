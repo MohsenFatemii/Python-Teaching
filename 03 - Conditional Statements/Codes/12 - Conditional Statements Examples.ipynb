{
 "cells": [
  {
   "cell_type": "markdown",
   "id": "f056ea1a",
   "metadata": {},
   "source": [
    "## Conditional Statements Examples"
   ]
  },
  {
   "cell_type": "markdown",
   "id": "82ff7cc5-9696-49de-8d57-520ef0859665",
   "metadata": {},
   "source": [
    "### Example 1\n",
    "\n",
    "#### Rock, Paper, Scissors\n",
    "\n",
    "write a program that takes the choice of the player as input(rock or paper or scissors) and create a simple rock, paper, scissors game where the user plays against\n",
    "the computer (who always chooses rock). Print who wins."
   ]
  },
  {
   "cell_type": "code",
   "execution_count": 4,
   "id": "48b8e674-44a8-43c3-91a3-0712ea235842",
   "metadata": {},
   "outputs": [
    {
     "name": "stdin",
     "output_type": "stream",
     "text": [
      "Please enter your choice(rock or paper or scissors) : gheychi\n"
     ]
    },
    {
     "name": "stdout",
     "output_type": "stream",
     "text": [
      "invalid input\n"
     ]
    }
   ],
   "source": [
    "# write your code here\n",
    "choice = input('Please enter your choice(rock or paper or scissors) :')\n",
    "\n",
    "if choice == 'rock' :\n",
    "    print('draw')\n",
    "elif choice == 'paper' :\n",
    "    print('player')\n",
    "elif choice == 'scissors' :\n",
    "    print('computer')\n",
    "else:\n",
    "    print('invalid input')"
   ]
  },
  {
   "cell_type": "markdown",
   "id": "5a0910d4-50d7-488a-b355-8d7850b4c504",
   "metadata": {},
   "source": [
    "### Example 2\n",
    "\n",
    "#### Movie Ticket Price\n",
    "Write a program that takes the age of a person and calculates their ticket price according to their age :\n",
    "- Under 5: Free\n",
    "- 5-12: \\$8\n",
    "- 13-59: \\$12\n",
    "- 60 and above: \\$6"
   ]
  },
  {
   "cell_type": "code",
   "execution_count": 8,
   "id": "bf9cb194-d5d3-4d35-bfdc-b68fab816e1f",
   "metadata": {},
   "outputs": [
    {
     "name": "stdin",
     "output_type": "stream",
     "text": [
      "Please enter your age : 70\n"
     ]
    },
    {
     "name": "stdout",
     "output_type": "stream",
     "text": [
      "6\n"
     ]
    }
   ],
   "source": [
    "# write your code here\n",
    "age = int(input('Please enter your age :'))\n",
    "\n",
    "if age < 5:\n",
    "    price = 0\n",
    "elif 5<=age<=12:\n",
    "    price = 8\n",
    "elif 13<=age<=59:\n",
    "    price = 12\n",
    "elif age>=60:\n",
    "    price = 6\n",
    "\n",
    "print(price)"
   ]
  },
  {
   "cell_type": "code",
   "execution_count": 11,
   "id": "bdd70f55-a988-4955-998e-9224f92f9d43",
   "metadata": {},
   "outputs": [
    {
     "name": "stdin",
     "output_type": "stream",
     "text": [
      "Please enter your age : 70\n"
     ]
    },
    {
     "name": "stdout",
     "output_type": "stream",
     "text": [
      "6\n"
     ]
    }
   ],
   "source": [
    "age = int(input('Please enter your age :'))\n",
    "\n",
    "price = 0 if age < 5 else 8 if 5<=age<=12 else 12 if 13<=age<=59 else 6\n",
    "\n",
    "print(price)"
   ]
  },
  {
   "cell_type": "markdown",
   "id": "826d0e04-d1f0-49d0-bc70-adbc3658ce9c",
   "metadata": {},
   "source": [
    "### Example 3\n",
    "\n",
    "#### Traffic Light\n",
    "Write a program that takes the traffic light color(red, yellow, green) and print what the driver should do."
   ]
  },
  {
   "cell_type": "code",
   "execution_count": 15,
   "id": "0a781dab-96c3-42d7-970e-0f98d5e39403",
   "metadata": {},
   "outputs": [
    {
     "name": "stdin",
     "output_type": "stream",
     "text": [
      "please enter the traffic light color: blue\n"
     ]
    },
    {
     "name": "stdout",
     "output_type": "stream",
     "text": [
      "invalid input\n"
     ]
    }
   ],
   "source": [
    "# write your code here\n",
    "color = input('please enter the traffic light color:')\n",
    "\n",
    "if color == 'red':\n",
    "    print('Stop!')\n",
    "elif color == 'yellow':\n",
    "    print('Caution! Slow down.')\n",
    "elif color == 'green':\n",
    "    print('Go')\n",
    "else:\n",
    "    print('invalid input')\n"
   ]
  },
  {
   "cell_type": "markdown",
   "id": "73e843ca-5210-472a-91a7-8c362c50457b",
   "metadata": {},
   "source": [
    "### Example 4\n",
    "\n",
    "Write a program that takes 2 numbers `num1` and `num2` as input and tells whether their sum is greater than their product or not."
   ]
  },
  {
   "cell_type": "code",
   "execution_count": 18,
   "id": "8fa0c4ca-81f2-4d8c-aeee-a40d166c6619",
   "metadata": {},
   "outputs": [
    {
     "name": "stdin",
     "output_type": "stream",
     "text": [
      "Please enter num1 : 2\n",
      "Please enter num2 : 2\n"
     ]
    },
    {
     "name": "stdout",
     "output_type": "stream",
     "text": [
      "Product is equal to Sum\n"
     ]
    }
   ],
   "source": [
    "# write your code here\n",
    "num1 = float(input('Please enter num1 :'))\n",
    "num2 = float(input('Please enter num2 :'))\n",
    "\n",
    "sum_numbers = num1 + num2\n",
    "product_numbers = num1 * num2\n",
    "\n",
    "if sum_numbers > product_numbers :\n",
    "    print('Sum is greater than product')\n",
    "elif product_numbers > sum_numbers :\n",
    "    print('Product is greater than sum')\n",
    "else:\n",
    "    print('Product is equal to Sum')"
   ]
  },
  {
   "cell_type": "code",
   "execution_count": null,
   "id": "29fe96f1-51c5-46d2-a72c-ee87a8803f88",
   "metadata": {},
   "outputs": [],
   "source": []
  }
 ],
 "metadata": {
  "kernelspec": {
   "display_name": "Python 3 (ipykernel)",
   "language": "python",
   "name": "python3"
  },
  "language_info": {
   "codemirror_mode": {
    "name": "ipython",
    "version": 3
   },
   "file_extension": ".py",
   "mimetype": "text/x-python",
   "name": "python",
   "nbconvert_exporter": "python",
   "pygments_lexer": "ipython3",
   "version": "3.10.11"
  }
 },
 "nbformat": 4,
 "nbformat_minor": 5
}
