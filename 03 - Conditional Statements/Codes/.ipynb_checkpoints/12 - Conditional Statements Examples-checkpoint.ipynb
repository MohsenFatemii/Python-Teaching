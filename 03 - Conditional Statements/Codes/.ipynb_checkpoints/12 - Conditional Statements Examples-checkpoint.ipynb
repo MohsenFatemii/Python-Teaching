{
 "cells": [
  {
   "cell_type": "markdown",
   "id": "f056ea1a",
   "metadata": {},
   "source": [
    "## Basic Examples"
   ]
  },
  {
   "cell_type": "markdown",
   "id": "82ff7cc5-9696-49de-8d57-520ef0859665",
   "metadata": {},
   "source": [
    "### Example 1\n",
    "\n",
    "#### Rock, Paper, Scissors\n",
    "\n",
    "write a program that takes the choice of the player as input(rock or paper or scissors) and create a simple rock, paper, scissors game where the user plays against\n",
    "the computer (who always chooses rock). Print who wins."
   ]
  },
  {
   "cell_type": "code",
   "execution_count": 1,
   "id": "48b8e674-44a8-43c3-91a3-0712ea235842",
   "metadata": {},
   "outputs": [],
   "source": [
    "# write your code here"
   ]
  },
  {
   "cell_type": "markdown",
   "id": "5a0910d4-50d7-488a-b355-8d7850b4c504",
   "metadata": {},
   "source": [
    "### Example 2\n",
    "\n",
    "#### Movie Ticket Price\n",
    "Write a program that takes the age of a person and calculates their ticket price according to their age :\n",
    "- Under 5: Free\n",
    "- 5-12: \\$8\n",
    "- 13-59: \\$12\n",
    "- 60 and above: \\$6"
   ]
  },
  {
   "cell_type": "code",
   "execution_count": 2,
   "id": "bf9cb194-d5d3-4d35-bfdc-b68fab816e1f",
   "metadata": {},
   "outputs": [],
   "source": [
    "# write your code here"
   ]
  },
  {
   "cell_type": "markdown",
   "id": "826d0e04-d1f0-49d0-bc70-adbc3658ce9c",
   "metadata": {},
   "source": [
    "### Example 3\n",
    "\n",
    "#### Movie Ticket Price\n",
    "Write a program that takes the traffic light color(red, yellow, green) and print what the driver should do."
   ]
  },
  {
   "cell_type": "code",
   "execution_count": 2,
   "id": "0a781dab-96c3-42d7-970e-0f98d5e39403",
   "metadata": {},
   "outputs": [],
   "source": [
    "# write your code here"
   ]
  },
  {
   "cell_type": "markdown",
   "id": "73e843ca-5210-472a-91a7-8c362c50457b",
   "metadata": {},
   "source": [
    "### Example 4\n",
    "\n",
    "Write a program that takes 2 numbers `num1` and `num2` as input and tells whether their sum is greater than their product or not."
   ]
  },
  {
   "cell_type": "code",
   "execution_count": 3,
   "id": "8fa0c4ca-81f2-4d8c-aeee-a40d166c6619",
   "metadata": {},
   "outputs": [],
   "source": [
    "# write your code here"
   ]
  },
  {
   "cell_type": "code",
   "execution_count": null,
   "id": "6f3e4db3-0a24-4ecd-a008-ce346715070d",
   "metadata": {},
   "outputs": [],
   "source": []
  }
 ],
 "metadata": {
  "kernelspec": {
   "display_name": "Python 3 (ipykernel)",
   "language": "python",
   "name": "python3"
  },
  "language_info": {
   "codemirror_mode": {
    "name": "ipython",
    "version": 3
   },
   "file_extension": ".py",
   "mimetype": "text/x-python",
   "name": "python",
   "nbconvert_exporter": "python",
   "pygments_lexer": "ipython3",
   "version": "3.10.11"
  }
 },
 "nbformat": 4,
 "nbformat_minor": 5
}
