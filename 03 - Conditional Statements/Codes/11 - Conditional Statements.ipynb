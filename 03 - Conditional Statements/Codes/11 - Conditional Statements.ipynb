{
 "cells": [
  {
   "cell_type": "markdown",
   "id": "e720bbe8",
   "metadata": {},
   "source": [
    "#### Conditional Statements"
   ]
  },
  {
   "cell_type": "markdown",
   "id": "d74dbf2f",
   "metadata": {},
   "source": [
    "Right now we are familiar with writing conditions in python."
   ]
  },
  {
   "cell_type": "code",
   "execution_count": 1,
   "id": "78e88758",
   "metadata": {},
   "outputs": [
    {
     "data": {
      "text/plain": [
       "False"
      ]
     },
     "execution_count": 1,
     "metadata": {},
     "output_type": "execute_result"
    }
   ],
   "source": [
    "number = 5\n",
    "start = 10\n",
    "end = 20\n",
    "\n",
    "number>start and number<end"
   ]
  },
  {
   "cell_type": "code",
   "execution_count": 2,
   "id": "4a17c905",
   "metadata": {},
   "outputs": [
    {
     "data": {
      "text/plain": [
       "False"
      ]
     },
     "execution_count": 2,
     "metadata": {},
     "output_type": "execute_result"
    }
   ],
   "source": [
    "number = 5\n",
    "start = 10\n",
    "end = 20\n",
    "\n",
    "start<number<end"
   ]
  },
  {
   "cell_type": "markdown",
   "id": "95b4b324",
   "metadata": {},
   "source": [
    "#### How to write an if-statement in python?\n",
    "\n",
    "Now, We are going to see the syntax of an `if-statement`."
   ]
  },
  {
   "cell_type": "code",
   "execution_count": null,
   "id": "5eb42c8c",
   "metadata": {},
   "outputs": [],
   "source": [
    "# do not run this cell\n",
    "if condition :\n",
    "    statement # statement is 1 or more lines of code"
   ]
  },
  {
   "cell_type": "markdown",
   "id": "4c4d98f7",
   "metadata": {},
   "source": [
    "Here is an example :"
   ]
  },
  {
   "cell_type": "code",
   "execution_count": 4,
   "id": "a808fd19",
   "metadata": {},
   "outputs": [
    {
     "name": "stdout",
     "output_type": "stream",
     "text": [
      "The number is between start and end\n"
     ]
    }
   ],
   "source": [
    "number = 15\n",
    "start = 10\n",
    "end = 20\n",
    "\n",
    "if start<number<end :\n",
    "    print('The number is between start and end')"
   ]
  },
  {
   "cell_type": "markdown",
   "id": "cd821880",
   "metadata": {},
   "source": [
    "If you do not consider writing a `tab` or `space` for indentation, you will face the following error :"
   ]
  },
  {
   "cell_type": "code",
   "execution_count": 5,
   "id": "16cc937d",
   "metadata": {},
   "outputs": [
    {
     "ename": "IndentationError",
     "evalue": "expected an indented block after 'if' statement on line 5 (1108405289.py, line 6)",
     "output_type": "error",
     "traceback": [
      "\u001b[1;36m  Cell \u001b[1;32mIn[5], line 6\u001b[1;36m\u001b[0m\n\u001b[1;33m    print('The number is between start and end')\u001b[0m\n\u001b[1;37m    ^\u001b[0m\n\u001b[1;31mIndentationError\u001b[0m\u001b[1;31m:\u001b[0m expected an indented block after 'if' statement on line 5\n"
     ]
    }
   ],
   "source": [
    "number = 5\n",
    "start = 10\n",
    "end = 20\n",
    "\n",
    "if start<number<end :\n",
    "print('The number is between start and end')"
   ]
  },
  {
   "cell_type": "markdown",
   "id": "a9dd23e4",
   "metadata": {},
   "source": [
    "If you forget to write `:` after the condition, it will cause the following error :"
   ]
  },
  {
   "cell_type": "code",
   "execution_count": 6,
   "id": "eae9dce9",
   "metadata": {},
   "outputs": [
    {
     "ename": "SyntaxError",
     "evalue": "expected ':' (3032270574.py, line 5)",
     "output_type": "error",
     "traceback": [
      "\u001b[1;36m  Cell \u001b[1;32mIn[6], line 5\u001b[1;36m\u001b[0m\n\u001b[1;33m    if start<number<end\u001b[0m\n\u001b[1;37m                       ^\u001b[0m\n\u001b[1;31mSyntaxError\u001b[0m\u001b[1;31m:\u001b[0m expected ':'\n"
     ]
    }
   ],
   "source": [
    "number = 5\n",
    "start = 10\n",
    "end = 20\n",
    "\n",
    "if start<number<end\n",
    "    print('The number is between start and end')"
   ]
  },
  {
   "cell_type": "markdown",
   "id": "1c071ca2",
   "metadata": {},
   "source": [
    "You can write **more than 1 line** of code inside an `if-statement`, take a look at the following example:"
   ]
  },
  {
   "cell_type": "code",
   "execution_count": 9,
   "id": "83d64ad9",
   "metadata": {},
   "outputs": [
    {
     "name": "stdout",
     "output_type": "stream",
     "text": [
      "The number is greater than start\n",
      "The number is less than end\n"
     ]
    }
   ],
   "source": [
    "number = 15\n",
    "start = 10\n",
    "end = 20\n",
    "\n",
    "if start<number<end :\n",
    "    print('The number is greater than start')\n",
    "    print('The number is less than end')"
   ]
  },
  {
   "cell_type": "code",
   "execution_count": 10,
   "id": "79db897d",
   "metadata": {},
   "outputs": [
    {
     "name": "stdout",
     "output_type": "stream",
     "text": [
      "The number is less than end\n"
     ]
    }
   ],
   "source": [
    "number = 5\n",
    "start = 10\n",
    "end = 20\n",
    "\n",
    "if start<number<end :\n",
    "    print('The number is greater than start')\n",
    "print('The number is less than end') # this line is out of if-statement, it will anyway print the line"
   ]
  },
  {
   "cell_type": "markdown",
   "id": "45bf024a",
   "metadata": {},
   "source": [
    "#### How to write `else` alongside if-statement in python?\n",
    "\n",
    "Now, We are going to see the syntax of `else` alongside an `if-statement`."
   ]
  },
  {
   "cell_type": "code",
   "execution_count": null,
   "id": "492dccbe",
   "metadata": {},
   "outputs": [],
   "source": [
    "# do not run this cell\n",
    "if condition:\n",
    "    statement1\n",
    "else:\n",
    "    statement2"
   ]
  },
  {
   "cell_type": "markdown",
   "id": "d4d71a08",
   "metadata": {},
   "source": [
    "Here is an example :"
   ]
  },
  {
   "cell_type": "code",
   "execution_count": 12,
   "id": "02f4fa54",
   "metadata": {},
   "outputs": [
    {
     "name": "stdout",
     "output_type": "stream",
     "text": [
      "we can make Omelette\n"
     ]
    }
   ],
   "source": [
    "Egg = True\n",
    "Tomato = True\n",
    "\n",
    "if Egg==True and Tomato==True:\n",
    "    print('we can make Omelette')\n",
    "else:\n",
    "    print('we cannot make Omelette')"
   ]
  },
  {
   "cell_type": "code",
   "execution_count": 13,
   "id": "76cdf954",
   "metadata": {},
   "outputs": [
    {
     "name": "stdout",
     "output_type": "stream",
     "text": [
      "we can make Omelette\n"
     ]
    }
   ],
   "source": [
    "Egg = True     # boolean\n",
    "Tomato = True # boolean\n",
    "\n",
    "if Egg and Tomato:\n",
    "    print('we can make Omelette')\n",
    "else:\n",
    "    print('we cannot make Omelette')"
   ]
  },
  {
   "cell_type": "markdown",
   "id": "7411c77a",
   "metadata": {},
   "source": [
    "#### How to write `elif` alongside if-statement in python?"
   ]
  },
  {
   "cell_type": "code",
   "execution_count": null,
   "id": "ed44e23e",
   "metadata": {},
   "outputs": [],
   "source": [
    "# do not run this cell\n",
    "if condition1:\n",
    "    statement1\n",
    "elif condition2:\n",
    "    statement2\n",
    "else:\n",
    "    statement3"
   ]
  },
  {
   "cell_type": "markdown",
   "id": "977b011b",
   "metadata": {},
   "source": [
    "**Example 1: Using elif without writing an else**"
   ]
  },
  {
   "cell_type": "code",
   "execution_count": 16,
   "id": "b39cd986",
   "metadata": {},
   "outputs": [
    {
     "name": "stdout",
     "output_type": "stream",
     "text": [
      "do not buy it\n"
     ]
    }
   ],
   "source": [
    "color = 'yellow'\n",
    "if color =='blue':\n",
    "    print('buy it')\n",
    "elif color == 'yellow':\n",
    "    print('do not buy it')"
   ]
  },
  {
   "cell_type": "markdown",
   "id": "3c64aac7",
   "metadata": {},
   "source": [
    "**Example 2: Using elif before writing an else**"
   ]
  },
  {
   "cell_type": "code",
   "execution_count": 17,
   "id": "05a09ed8",
   "metadata": {},
   "outputs": [
    {
     "name": "stdout",
     "output_type": "stream",
     "text": [
      "Do not buy it\n"
     ]
    }
   ],
   "source": [
    "color = 'red'\n",
    "if color == 'blue':\n",
    "    print('Buy it')\n",
    "elif color == 'yellow': # elif stands for else if\n",
    "    print('Anyway buy it')\n",
    "else:\n",
    "    print('Do not buy it')"
   ]
  },
  {
   "cell_type": "code",
   "execution_count": 18,
   "id": "159991a8-8ae3-46c8-bbe6-98295b365e3b",
   "metadata": {},
   "outputs": [
    {
     "name": "stdout",
     "output_type": "stream",
     "text": [
      "Buy it\n"
     ]
    }
   ],
   "source": [
    "color = 'blue'\n",
    "if color == 'blue':\n",
    "    print('Buy it')\n",
    "elif color == 'yellow': # elif stands for else if\n",
    "    print('Anyway buy it')\n",
    "else:\n",
    "    print('Do not buy it')"
   ]
  },
  {
   "cell_type": "code",
   "execution_count": 19,
   "id": "deb0db8b-50bc-46af-9d4e-9523635e2893",
   "metadata": {},
   "outputs": [
    {
     "name": "stdout",
     "output_type": "stream",
     "text": [
      "Anyway buy it\n"
     ]
    }
   ],
   "source": [
    "color = 'yellow'\n",
    "if color == 'blue':\n",
    "    print('Buy it')\n",
    "elif color == 'yellow': # elif stands for else if\n",
    "    print('Anyway buy it')\n",
    "else:\n",
    "    print('Do not buy it')"
   ]
  },
  {
   "cell_type": "markdown",
   "id": "0a52525d",
   "metadata": {},
   "source": [
    "**Example 3: Using more than 1 elif inside an if-statement**\n",
    "\n",
    "An if-statement can contain 0 or more than `elif` inside itself."
   ]
  },
  {
   "cell_type": "code",
   "execution_count": 22,
   "id": "0caffacb",
   "metadata": {},
   "outputs": [
    {
     "name": "stdout",
     "output_type": "stream",
     "text": [
      "a is not less than b and c\n"
     ]
    }
   ],
   "source": [
    "a,b,c = 10,2,1\n",
    "if a<b and a<c :\n",
    "    print('a is less than b and c')\n",
    "elif a<b:\n",
    "    print('a<b')\n",
    "elif a<c:\n",
    "    print('a<c')\n",
    "else:\n",
    "    print('a is not less than b and c')"
   ]
  },
  {
   "cell_type": "markdown",
   "id": "59c1cf59",
   "metadata": {},
   "source": [
    "#### short-hand if"
   ]
  },
  {
   "cell_type": "code",
   "execution_count": 23,
   "id": "8634c6f5",
   "metadata": {},
   "outputs": [
    {
     "name": "stdout",
     "output_type": "stream",
     "text": [
      "even\n"
     ]
    }
   ],
   "source": [
    "number=4\n",
    "if number%2==0:\n",
    "    print('even')"
   ]
  },
  {
   "cell_type": "code",
   "execution_count": 24,
   "id": "bbf82e34",
   "metadata": {},
   "outputs": [
    {
     "name": "stdout",
     "output_type": "stream",
     "text": [
      "even\n"
     ]
    }
   ],
   "source": [
    "number=4\n",
    "if number%2==0: print('even')"
   ]
  },
  {
   "cell_type": "markdown",
   "id": "ac1fd9bc",
   "metadata": {},
   "source": [
    "If you write `if` after print, it will cause an error."
   ]
  },
  {
   "cell_type": "code",
   "execution_count": 25,
   "id": "5c1ca5ca",
   "metadata": {},
   "outputs": [
    {
     "ename": "SyntaxError",
     "evalue": "expected 'else' after 'if' expression (2688086251.py, line 2)",
     "output_type": "error",
     "traceback": [
      "\u001b[1;36m  Cell \u001b[1;32mIn[25], line 2\u001b[1;36m\u001b[0m\n\u001b[1;33m    print('even') if number%2==0\u001b[0m\n\u001b[1;37m    ^\u001b[0m\n\u001b[1;31mSyntaxError\u001b[0m\u001b[1;31m:\u001b[0m expected 'else' after 'if' expression\n"
     ]
    }
   ],
   "source": [
    "number=3\n",
    "print('even') if number%2==0"
   ]
  },
  {
   "cell_type": "markdown",
   "id": "6e0b6926",
   "metadata": {},
   "source": [
    "#### short-hand if-else"
   ]
  },
  {
   "cell_type": "code",
   "execution_count": null,
   "id": "37f7a936",
   "metadata": {},
   "outputs": [],
   "source": [
    "# do not run this cell\n",
    "if condition:\n",
    "    statement1\n",
    "else:\n",
    "    statement2"
   ]
  },
  {
   "cell_type": "code",
   "execution_count": null,
   "id": "6560b70a",
   "metadata": {},
   "outputs": [],
   "source": [
    "# do not run this cell\n",
    "statement1 if condition else statement2"
   ]
  },
  {
   "cell_type": "markdown",
   "id": "da94e721",
   "metadata": {},
   "source": [
    "**Example 1: An if-else structure to determine whether the number is even or odd**"
   ]
  },
  {
   "cell_type": "code",
   "execution_count": 27,
   "id": "a1830f17",
   "metadata": {},
   "outputs": [
    {
     "name": "stdout",
     "output_type": "stream",
     "text": [
      "odd\n"
     ]
    }
   ],
   "source": [
    "number = 3\n",
    "\n",
    "if number%2==0:\n",
    "    print('even')\n",
    "else:\n",
    "    print('odd')"
   ]
  },
  {
   "cell_type": "markdown",
   "id": "a2345ef8",
   "metadata": {},
   "source": [
    "the short-hand version of the code above."
   ]
  },
  {
   "cell_type": "code",
   "execution_count": 30,
   "id": "453f8e4c",
   "metadata": {},
   "outputs": [
    {
     "name": "stdout",
     "output_type": "stream",
     "text": [
      "odd\n"
     ]
    }
   ],
   "source": [
    "number = 3\n",
    "\n",
    "print('even') if number%2==0 else print('odd')"
   ]
  },
  {
   "cell_type": "markdown",
   "id": "deb3c971",
   "metadata": {},
   "source": [
    "**Example 2: Using short-hand if-else to assign a value to a variable considering a condition**"
   ]
  },
  {
   "cell_type": "code",
   "execution_count": 32,
   "id": "14778b92",
   "metadata": {},
   "outputs": [
    {
     "name": "stdout",
     "output_type": "stream",
     "text": [
      "15\n"
     ]
    }
   ],
   "source": [
    "number = 5\n",
    "\n",
    "if number%2==0:\n",
    "    number*=2 # number = number * 2\n",
    "else:\n",
    "    number*=3 # number = number * 3\n",
    "    \n",
    "print(number)"
   ]
  },
  {
   "cell_type": "code",
   "execution_count": 33,
   "id": "96f2a1e9-8d16-454a-a5f9-a4f020700117",
   "metadata": {},
   "outputs": [
    {
     "ename": "SyntaxError",
     "evalue": "invalid syntax (4267683368.py, line 1)",
     "output_type": "error",
     "traceback": [
      "\u001b[1;36m  Cell \u001b[1;32mIn[33], line 1\u001b[1;36m\u001b[0m\n\u001b[1;33m    number*=2 if number%2==0 else number*=3\u001b[0m\n\u001b[1;37m                                        ^\u001b[0m\n\u001b[1;31mSyntaxError\u001b[0m\u001b[1;31m:\u001b[0m invalid syntax\n"
     ]
    }
   ],
   "source": [
    "number*=2 if number%2==0 else number*=3"
   ]
  },
  {
   "cell_type": "markdown",
   "id": "cb9ed7f8",
   "metadata": {},
   "source": [
    "The short-hand version of the code above."
   ]
  },
  {
   "cell_type": "code",
   "execution_count": 35,
   "id": "c93e1c71",
   "metadata": {},
   "outputs": [
    {
     "name": "stdout",
     "output_type": "stream",
     "text": [
      "8\n"
     ]
    }
   ],
   "source": [
    "number = 4\n",
    "\n",
    "# assigning new value to a variable using short-hand if\n",
    "number = number*2 if number%2==0 else number*3\n",
    "\n",
    "print(number)"
   ]
  },
  {
   "cell_type": "markdown",
   "id": "caa53056",
   "metadata": {},
   "source": [
    "#### How to write an elif inside a short-hand if-else structure?"
   ]
  },
  {
   "cell_type": "code",
   "execution_count": 38,
   "id": "abd4f1db",
   "metadata": {
    "scrolled": true
   },
   "outputs": [
    {
     "name": "stdin",
     "output_type": "stream",
     "text": [
      "Please enter a country name : Germany\n"
     ]
    },
    {
     "name": "stdout",
     "output_type": "stream",
     "text": [
      "Berlin\n"
     ]
    }
   ],
   "source": [
    "country = input('Please enter a country name :')\n",
    "\n",
    "if country=='Iran':\n",
    "    capital = 'Tehran'\n",
    "elif country =='Germany':\n",
    "    capital = 'Berlin'\n",
    "else:\n",
    "    capital = 'not defined'\n",
    "\n",
    "print(capital)"
   ]
  },
  {
   "cell_type": "markdown",
   "id": "8bb76ecb",
   "metadata": {},
   "source": [
    "The short-hand version of the code above."
   ]
  },
  {
   "cell_type": "code",
   "execution_count": 41,
   "id": "1b62660c",
   "metadata": {},
   "outputs": [
    {
     "name": "stdin",
     "output_type": "stream",
     "text": [
      "Please enter a country name : Indonesia\n"
     ]
    },
    {
     "name": "stdout",
     "output_type": "stream",
     "text": [
      "not defined\n"
     ]
    }
   ],
   "source": [
    "country = input('Please enter a country name :')\n",
    "\n",
    "capital = 'Tehran' if country=='Iran' else 'Berlin' if country=='Germany' else 'not defined'\n",
    "\n",
    "print(capital)"
   ]
  },
  {
   "cell_type": "markdown",
   "id": "2eed08df",
   "metadata": {},
   "source": [
    "**Example 1: A more complex example of a short-hand if-else**"
   ]
  },
  {
   "cell_type": "code",
   "execution_count": 44,
   "id": "8e69836d",
   "metadata": {},
   "outputs": [
    {
     "name": "stdin",
     "output_type": "stream",
     "text": [
      "Please enter a country name : Iran\n"
     ]
    },
    {
     "name": "stdout",
     "output_type": "stream",
     "text": [
      "Tehran\n"
     ]
    }
   ],
   "source": [
    "country = input('Please enter a country name :')\n",
    "\n",
    "if country=='Iran':\n",
    "    capital = 'Tehran'\n",
    "elif country =='Germany':\n",
    "    capital = 'Berlin'\n",
    "elif country =='France':\n",
    "    capital = 'Paris'\n",
    "else:\n",
    "    capital = 'not defined'\n",
    "\n",
    "print(capital)"
   ]
  },
  {
   "cell_type": "code",
   "execution_count": 45,
   "id": "6419e72b",
   "metadata": {},
   "outputs": [
    {
     "name": "stdin",
     "output_type": "stream",
     "text": [
      "Please enter a country name : Iran\n"
     ]
    },
    {
     "name": "stdout",
     "output_type": "stream",
     "text": [
      "Tehran\n"
     ]
    }
   ],
   "source": [
    "country = input('Please enter a country name :')\n",
    "\n",
    "capital = 'Tehran' if country=='Iran' else 'Berlin' if country=='Germany' else 'Paris' if country=='France' else 'not defined'\n",
    "\n",
    "print(capital)"
   ]
  },
  {
   "cell_type": "code",
   "execution_count": 47,
   "id": "b624858e-a7e4-4d45-933b-121ae893c55c",
   "metadata": {},
   "outputs": [
    {
     "name": "stdin",
     "output_type": "stream",
     "text": [
      "Please enter a country name : Italy\n"
     ]
    },
    {
     "name": "stdout",
     "output_type": "stream",
     "text": [
      "not defined\n"
     ]
    }
   ],
   "source": [
    "country = input('Please enter a country name :')\n",
    "\n",
    "capital = 'Tehran' if country=='Iran' else 'Berlin' if country=='Germany' \\\n",
    "else 'Paris' if country=='France' else 'not defined'\n",
    "\n",
    "print(capital)"
   ]
  },
  {
   "cell_type": "markdown",
   "id": "c4da088b",
   "metadata": {},
   "source": [
    "#### What is `pass` in python?"
   ]
  },
  {
   "cell_type": "markdown",
   "id": "b409e4d6",
   "metadata": {},
   "source": [
    "When you define a if-statement, it can't be empty. So you need to write some code inside it. If you do not write a code inside it, it will cause an error. Note that a comment will not be considered as a line of code."
   ]
  },
  {
   "cell_type": "code",
   "execution_count": 49,
   "id": "7862c154",
   "metadata": {},
   "outputs": [
    {
     "ename": "SyntaxError",
     "evalue": "incomplete input (2934252343.py, line 3)",
     "output_type": "error",
     "traceback": [
      "\u001b[1;36m  Cell \u001b[1;32mIn[49], line 3\u001b[1;36m\u001b[0m\n\u001b[1;33m    # some code\u001b[0m\n\u001b[1;37m               ^\u001b[0m\n\u001b[1;31mSyntaxError\u001b[0m\u001b[1;31m:\u001b[0m incomplete input\n"
     ]
    }
   ],
   "source": [
    "number = 3\n",
    "if number%2==0:\n",
    "    # some code"
   ]
  },
  {
   "cell_type": "markdown",
   "id": "32f0c532",
   "metadata": {},
   "source": [
    "In this case you can use `pass`. `pass` is a line of code that does nothing, so it can fill an empty if-statement."
   ]
  },
  {
   "cell_type": "code",
   "execution_count": 50,
   "id": "5ea89ef9",
   "metadata": {},
   "outputs": [],
   "source": [
    "number = 3\n",
    "if number%2==0:\n",
    "    # this code will be written later\n",
    "    pass"
   ]
  },
  {
   "cell_type": "markdown",
   "id": "3bd91fb1",
   "metadata": {},
   "source": [
    "#### Nested if-statement\n",
    "\n",
    "Sometimes in order to write programs that are more complex, we need to use if-statement inside another if-statement. It is called Nested if-statement."
   ]
  },
  {
   "cell_type": "code",
   "execution_count": 53,
   "id": "9cc263f6",
   "metadata": {},
   "outputs": [
    {
     "name": "stdout",
     "output_type": "stream",
     "text": [
      "we can make something\n",
      "omlet\n"
     ]
    }
   ],
   "source": [
    "Egg = True\n",
    "Tomato = True\n",
    "\n",
    "if Egg:\n",
    "    print('we can make something')\n",
    "    if Tomato:\n",
    "        print('omlet')\n",
    "    else:\n",
    "        print('nimroo')\n",
    "else:\n",
    "    print('nothing')"
   ]
  },
  {
   "cell_type": "code",
   "execution_count": 56,
   "id": "56f2ba25",
   "metadata": {},
   "outputs": [
    {
     "name": "stdout",
     "output_type": "stream",
     "text": [
      "nothing\n"
     ]
    }
   ],
   "source": [
    "Egg = False\n",
    "Tomato = False\n",
    "\n",
    "if Egg == True:\n",
    "    print('we can make something')\n",
    "    if Tomato == True:\n",
    "        print('omlet')\n",
    "    else:\n",
    "        print('nimroo')\n",
    "elif Tomato==True:\n",
    "    print('salad')\n",
    "else:\n",
    "    print('nothing')"
   ]
  },
  {
   "cell_type": "code",
   "execution_count": null,
   "id": "553f607a",
   "metadata": {},
   "outputs": [],
   "source": []
  }
 ],
 "metadata": {
  "kernelspec": {
   "display_name": "Python 3 (ipykernel)",
   "language": "python",
   "name": "python3"
  },
  "language_info": {
   "codemirror_mode": {
    "name": "ipython",
    "version": 3
   },
   "file_extension": ".py",
   "mimetype": "text/x-python",
   "name": "python",
   "nbconvert_exporter": "python",
   "pygments_lexer": "ipython3",
   "version": "3.10.11"
  }
 },
 "nbformat": 4,
 "nbformat_minor": 5
}
