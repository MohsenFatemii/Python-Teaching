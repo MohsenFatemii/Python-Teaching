{
 "cells": [
  {
   "cell_type": "markdown",
   "id": "f9b3854a",
   "metadata": {},
   "source": [
    "#### Variables"
   ]
  },
  {
   "cell_type": "code",
   "execution_count": null,
   "id": "c8b2d212",
   "metadata": {},
   "outputs": [],
   "source": [
    "# do not run this cell\n",
    "variable_name = variable_value"
   ]
  },
  {
   "cell_type": "code",
   "execution_count": 1,
   "id": "be4cc3e5",
   "metadata": {},
   "outputs": [
    {
     "name": "stdout",
     "output_type": "stream",
     "text": [
      "2024\n"
     ]
    }
   ],
   "source": [
    "year = 2024\n",
    "print(year)"
   ]
  },
  {
   "cell_type": "code",
   "execution_count": null,
   "id": "510a3d3e-e006-488b-9383-c585421784f3",
   "metadata": {},
   "outputs": [],
   "source": [
    "# do not run this cell\n",
    "type(variable)"
   ]
  },
  {
   "cell_type": "code",
   "execution_count": 2,
   "id": "5d992d8c",
   "metadata": {},
   "outputs": [
    {
     "name": "stdout",
     "output_type": "stream",
     "text": [
      "<class 'int'>\n"
     ]
    }
   ],
   "source": [
    "month = 12\n",
    "print(type(month)) # int -> integer"
   ]
  },
  {
   "cell_type": "code",
   "execution_count": 3,
   "id": "02a58b76-02bc-466f-a3a6-3c1c85619563",
   "metadata": {},
   "outputs": [
    {
     "name": "stdout",
     "output_type": "stream",
     "text": [
      "<class 'str'> hello\n",
      "<class 'str'> hello\n"
     ]
    }
   ],
   "source": [
    "first_text = 'hello'\n",
    "second_text = \"hello\"\n",
    "\n",
    "print(type(first_text),first_text)\n",
    "print(type(second_text),second_text)"
   ]
  },
  {
   "cell_type": "code",
   "execution_count": 4,
   "id": "44b0a2ab-f9c2-492f-9357-341f0609ee88",
   "metadata": {},
   "outputs": [
    {
     "ename": "SyntaxError",
     "evalue": "cannot assign to literal here. Maybe you meant '==' instead of '='? (393146603.py, line 1)",
     "output_type": "error",
     "traceback": [
      "\u001b[1;36m  Cell \u001b[1;32mIn[4], line 1\u001b[1;36m\u001b[0m\n\u001b[1;33m    2 = number\u001b[0m\n\u001b[1;37m    ^\u001b[0m\n\u001b[1;31mSyntaxError\u001b[0m\u001b[1;31m:\u001b[0m cannot assign to literal here. Maybe you meant '==' instead of '='?\n"
     ]
    }
   ],
   "source": [
    "2 = number"
   ]
  },
  {
   "cell_type": "code",
   "execution_count": 5,
   "id": "e02e29ba-bea8-4156-b1c3-1cb0f5cc4d34",
   "metadata": {},
   "outputs": [
    {
     "name": "stdout",
     "output_type": "stream",
     "text": [
      "2\n"
     ]
    }
   ],
   "source": [
    "number = 2\n",
    "print(number)"
   ]
  },
  {
   "cell_type": "markdown",
   "id": "9f1455d8",
   "metadata": {},
   "source": [
    "##### case sensitive"
   ]
  },
  {
   "cell_type": "code",
   "execution_count": 6,
   "id": "4435b733",
   "metadata": {},
   "outputs": [
    {
     "name": "stdout",
     "output_type": "stream",
     "text": [
      "10\n",
      "20\n"
     ]
    }
   ],
   "source": [
    "number = 10\n",
    "Number = 20\n",
    "print(number)\n",
    "print(Number)"
   ]
  },
  {
   "cell_type": "markdown",
   "id": "5bb9f7ee",
   "metadata": {},
   "source": [
    "##### Naming Rules"
   ]
  },
  {
   "cell_type": "code",
   "execution_count": 7,
   "id": "d11ba294",
   "metadata": {},
   "outputs": [
    {
     "name": "stdout",
     "output_type": "stream",
     "text": [
      "10\n"
     ]
    }
   ],
   "source": [
    "# A-Z a-z _\n",
    "A_variable = 10\n",
    "print(A_variable)"
   ]
  },
  {
   "cell_type": "code",
   "execution_count": 8,
   "id": "4596ee61",
   "metadata": {},
   "outputs": [
    {
     "ename": "SyntaxError",
     "evalue": "invalid syntax (2836794822.py, line 1)",
     "output_type": "error",
     "traceback": [
      "\u001b[1;36m  Cell \u001b[1;32mIn[8], line 1\u001b[1;36m\u001b[0m\n\u001b[1;33m    $A_variable = 10\u001b[0m\n\u001b[1;37m    ^\u001b[0m\n\u001b[1;31mSyntaxError\u001b[0m\u001b[1;31m:\u001b[0m invalid syntax\n"
     ]
    }
   ],
   "source": [
    "$A_variable = 10\n",
    "print($A_variable)"
   ]
  },
  {
   "cell_type": "code",
   "execution_count": 9,
   "id": "9c99ce59-a40c-4896-971b-dced194e1eb1",
   "metadata": {},
   "outputs": [
    {
     "ename": "SyntaxError",
     "evalue": "invalid syntax (1892837438.py, line 1)",
     "output_type": "error",
     "traceback": [
      "\u001b[1;36m  Cell \u001b[1;32mIn[9], line 1\u001b[1;36m\u001b[0m\n\u001b[1;33m    A variable = 10\u001b[0m\n\u001b[1;37m      ^\u001b[0m\n\u001b[1;31mSyntaxError\u001b[0m\u001b[1;31m:\u001b[0m invalid syntax\n"
     ]
    }
   ],
   "source": [
    "A variable = 10\n",
    "print(A variable)"
   ]
  },
  {
   "cell_type": "code",
   "execution_count": 10,
   "id": "8c8198c1",
   "metadata": {},
   "outputs": [
    {
     "name": "stdout",
     "output_type": "stream",
     "text": [
      "10\n",
      "20\n"
     ]
    }
   ],
   "source": [
    "# A-Z a-z _ 0-9\n",
    "variable1 = 10\n",
    "variable_2 = 20\n",
    "print(variable1)\n",
    "print(variable_2)"
   ]
  },
  {
   "cell_type": "code",
   "execution_count": 11,
   "id": "1c25052d",
   "metadata": {},
   "outputs": [
    {
     "ename": "SyntaxError",
     "evalue": "invalid decimal literal (3379120796.py, line 1)",
     "output_type": "error",
     "traceback": [
      "\u001b[1;36m  Cell \u001b[1;32mIn[11], line 1\u001b[1;36m\u001b[0m\n\u001b[1;33m    1text = 'Hello'\u001b[0m\n\u001b[1;37m    ^\u001b[0m\n\u001b[1;31mSyntaxError\u001b[0m\u001b[1;31m:\u001b[0m invalid decimal literal\n"
     ]
    }
   ],
   "source": [
    "1text = 'Hello'\n",
    "print(1text)"
   ]
  },
  {
   "cell_type": "code",
   "execution_count": 12,
   "id": "bba538a9",
   "metadata": {},
   "outputs": [
    {
     "name": "stdout",
     "output_type": "stream",
     "text": [
      "Hello\n"
     ]
    }
   ],
   "source": [
    "t1ext = 'Hello'\n",
    "print(t1ext)"
   ]
  },
  {
   "cell_type": "code",
   "execution_count": 13,
   "id": "a84982e1",
   "metadata": {},
   "outputs": [
    {
     "name": "stdout",
     "output_type": "stream",
     "text": [
      "Hello\n"
     ]
    }
   ],
   "source": [
    "text1 = 'Hello'\n",
    "print(text1)"
   ]
  },
  {
   "cell_type": "markdown",
   "id": "82b855b0",
   "metadata": {},
   "source": [
    "#### Naming Recommendations"
   ]
  },
  {
   "cell_type": "code",
   "execution_count": 14,
   "id": "7751c82e",
   "metadata": {},
   "outputs": [
    {
     "name": "stdout",
     "output_type": "stream",
     "text": [
      "3\n"
     ]
    }
   ],
   "source": [
    "firstdigitofnumberpi = 3\n",
    "print(firstdigitofnumberpi)"
   ]
  },
  {
   "cell_type": "markdown",
   "id": "709851c2",
   "metadata": {},
   "source": [
    "##### Camel Case"
   ]
  },
  {
   "cell_type": "code",
   "execution_count": 15,
   "id": "ad1975ff",
   "metadata": {},
   "outputs": [
    {
     "name": "stdout",
     "output_type": "stream",
     "text": [
      "3\n"
     ]
    }
   ],
   "source": [
    "firstDigitOfNumberPi = 3\n",
    "print(firstDigitOfNumberPi)"
   ]
  },
  {
   "cell_type": "markdown",
   "id": "13391009",
   "metadata": {},
   "source": [
    "##### Pascal Case"
   ]
  },
  {
   "cell_type": "code",
   "execution_count": 16,
   "id": "e40d91e1",
   "metadata": {},
   "outputs": [
    {
     "name": "stdout",
     "output_type": "stream",
     "text": [
      "3\n"
     ]
    }
   ],
   "source": [
    "FirstDigitOfNumberPi = 3\n",
    "print(FirstDigitOfNumberPi)"
   ]
  },
  {
   "cell_type": "markdown",
   "id": "54e2768a",
   "metadata": {},
   "source": [
    "##### Snake Case"
   ]
  },
  {
   "cell_type": "code",
   "execution_count": 17,
   "id": "65dc16eb",
   "metadata": {},
   "outputs": [
    {
     "name": "stdout",
     "output_type": "stream",
     "text": [
      "3\n"
     ]
    }
   ],
   "source": [
    "first_digit_of_number_pi = 3\n",
    "print(first_digit_of_number_pi)"
   ]
  },
  {
   "cell_type": "markdown",
   "id": "13163e03-da0e-4565-ba16-745f27f5cae8",
   "metadata": {},
   "source": [
    "#### Reserved Words\n",
    "\n",
    "There are reserved words in python that cannot be used as variable name :\n",
    "\n",
    "|  |     |     |      |       | |    |\n",
    "|-------|---------|---------|---------|---------|---------|---------|\n",
    "| False | None    | True    | and     | as      | assert  | async   |\n",
    "| await | break   | class   | continue| def     | del     | elif    |\n",
    "| else  | except  | finally | for     | from    | global  | if      |\n",
    "| import| in      | is      | lambda  | nonlocal| not     | or      |\n",
    "| pass  | raise   | return  | try     | while   | with    | yield   |\n"
   ]
  },
  {
   "cell_type": "code",
   "execution_count": 18,
   "id": "269ae919-f7fc-4da4-93d3-3368124f34e0",
   "metadata": {},
   "outputs": [
    {
     "ename": "SyntaxError",
     "evalue": "invalid syntax (1720054281.py, line 1)",
     "output_type": "error",
     "traceback": [
      "\u001b[1;36m  Cell \u001b[1;32mIn[18], line 1\u001b[1;36m\u001b[0m\n\u001b[1;33m    if = 4\u001b[0m\n\u001b[1;37m       ^\u001b[0m\n\u001b[1;31mSyntaxError\u001b[0m\u001b[1;31m:\u001b[0m invalid syntax\n"
     ]
    }
   ],
   "source": [
    "if = 4"
   ]
  },
  {
   "cell_type": "code",
   "execution_count": 19,
   "id": "c50b6570-5f4d-4e4b-a843-406fbe685219",
   "metadata": {},
   "outputs": [
    {
     "ename": "SyntaxError",
     "evalue": "invalid syntax (1526924184.py, line 1)",
     "output_type": "error",
     "traceback": [
      "\u001b[1;36m  Cell \u001b[1;32mIn[19], line 1\u001b[1;36m\u001b[0m\n\u001b[1;33m    import = 5\u001b[0m\n\u001b[1;37m           ^\u001b[0m\n\u001b[1;31mSyntaxError\u001b[0m\u001b[1;31m:\u001b[0m invalid syntax\n"
     ]
    }
   ],
   "source": [
    "import = 5"
   ]
  },
  {
   "cell_type": "markdown",
   "id": "c7d7e79d",
   "metadata": {},
   "source": [
    "#### Defining multiple variables in one line"
   ]
  },
  {
   "cell_type": "code",
   "execution_count": 20,
   "id": "b78a8684",
   "metadata": {},
   "outputs": [
    {
     "name": "stdout",
     "output_type": "stream",
     "text": [
      "2\n",
      "3\n",
      "4\n"
     ]
    }
   ],
   "source": [
    "a = 2\n",
    "b = 3\n",
    "c = 4\n",
    "print(a)\n",
    "print(b)\n",
    "print(c)"
   ]
  },
  {
   "cell_type": "code",
   "execution_count": 21,
   "id": "576e3d4a",
   "metadata": {},
   "outputs": [
    {
     "name": "stdout",
     "output_type": "stream",
     "text": [
      "2\n",
      "3\n",
      "4\n"
     ]
    }
   ],
   "source": [
    "a,b,c = 2,3,4\n",
    "print(a)\n",
    "print(b)\n",
    "print(c)"
   ]
  },
  {
   "cell_type": "markdown",
   "id": "a3ea1383",
   "metadata": {},
   "source": [
    "#### Defining numbers in a different manner"
   ]
  },
  {
   "cell_type": "code",
   "execution_count": 22,
   "id": "78c47bc4",
   "metadata": {},
   "outputs": [
    {
     "name": "stdout",
     "output_type": "stream",
     "text": [
      "10000000\n"
     ]
    }
   ],
   "source": [
    "number = 10_000_000\n",
    "print(number)"
   ]
  },
  {
   "cell_type": "code",
   "execution_count": 23,
   "id": "790053ad-94fe-49de-adf9-4eab527bd6c3",
   "metadata": {},
   "outputs": [
    {
     "name": "stdout",
     "output_type": "stream",
     "text": [
      "10000000\n"
     ]
    }
   ],
   "source": [
    "number = 10000000\n",
    "print(number)"
   ]
  },
  {
   "cell_type": "code",
   "execution_count": 24,
   "id": "c9a747d5-66bf-423d-a0e5-6f10bd5a2c53",
   "metadata": {},
   "outputs": [
    {
     "name": "stdout",
     "output_type": "stream",
     "text": [
      "10000000\n"
     ]
    }
   ],
   "source": [
    "number = 1_0_0_0000_0\n",
    "print(number)"
   ]
  },
  {
   "cell_type": "code",
   "execution_count": 25,
   "id": "80fe3773-f017-4350-b682-536b970b1fa0",
   "metadata": {},
   "outputs": [
    {
     "name": "stdout",
     "output_type": "stream",
     "text": [
      "3.1415\n"
     ]
    }
   ],
   "source": [
    "number = 3.1415\n",
    "print(number)"
   ]
  },
  {
   "cell_type": "code",
   "execution_count": 26,
   "id": "c211c57f",
   "metadata": {},
   "outputs": [
    {
     "name": "stdout",
     "output_type": "stream",
     "text": [
      "7700000000.0\n"
     ]
    }
   ],
   "source": [
    "# using scientific notation\n",
    "number = 7.7e9 # 7.7 x 10^9\n",
    "print(number)"
   ]
  },
  {
   "cell_type": "code",
   "execution_count": 27,
   "id": "6b6822e3",
   "metadata": {},
   "outputs": [
    {
     "name": "stdout",
     "output_type": "stream",
     "text": [
      "1e-05\n"
     ]
    }
   ],
   "source": [
    "# using scientific notation\n",
    "eps = 1e-5\n",
    "print(eps) # 0.00001"
   ]
  },
  {
   "cell_type": "code",
   "execution_count": null,
   "id": "e88f5c6e",
   "metadata": {},
   "outputs": [],
   "source": []
  }
 ],
 "metadata": {
  "kernelspec": {
   "display_name": "Python 3 (ipykernel)",
   "language": "python",
   "name": "python3"
  },
  "language_info": {
   "codemirror_mode": {
    "name": "ipython",
    "version": 3
   },
   "file_extension": ".py",
   "mimetype": "text/x-python",
   "name": "python",
   "nbconvert_exporter": "python",
   "pygments_lexer": "ipython3",
   "version": "3.10.11"
  }
 },
 "nbformat": 4,
 "nbformat_minor": 5
}
