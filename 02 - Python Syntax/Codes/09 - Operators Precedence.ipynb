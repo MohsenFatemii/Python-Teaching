{
 "cells": [
  {
   "cell_type": "markdown",
   "id": "f056ea1a",
   "metadata": {},
   "source": [
    "## Operators Precedence"
   ]
  },
  {
   "cell_type": "code",
   "execution_count": 27,
   "id": "7d88c4cd-0a74-4118-ac3c-6fb95b84b8a1",
   "metadata": {},
   "outputs": [
    {
     "data": {
      "text/plain": [
       "-192"
      ]
     },
     "execution_count": 27,
     "metadata": {},
     "output_type": "execute_result"
    }
   ],
   "source": [
    "( 1 - 4 ) * 2 ** 6"
   ]
  },
  {
   "cell_type": "code",
   "execution_count": 28,
   "id": "6b784c21-9b43-425c-979e-77a715e5fb1a",
   "metadata": {},
   "outputs": [
    {
     "data": {
      "text/plain": [
       "12.5"
      ]
     },
     "execution_count": 28,
     "metadata": {},
     "output_type": "execute_result"
    }
   ],
   "source": [
    "10 / 4 * 5"
   ]
  },
  {
   "cell_type": "code",
   "execution_count": 29,
   "id": "3a0362de-a963-43b0-a9c2-166393d5a982",
   "metadata": {},
   "outputs": [
    {
     "data": {
      "text/plain": [
       "0.5"
      ]
     },
     "execution_count": 29,
     "metadata": {},
     "output_type": "execute_result"
    }
   ],
   "source": [
    "10 / (4 * 5)"
   ]
  },
  {
   "cell_type": "code",
   "execution_count": 32,
   "id": "5603a958-a258-459e-b8b1-9064789b8a86",
   "metadata": {},
   "outputs": [
    {
     "data": {
      "text/plain": [
       "256"
      ]
     },
     "execution_count": 32,
     "metadata": {},
     "output_type": "execute_result"
    }
   ],
   "source": [
    "2 ** 2 ** 3"
   ]
  },
  {
   "cell_type": "code",
   "execution_count": 31,
   "id": "087e6261-6532-45dd-8ba0-9f39655527d2",
   "metadata": {},
   "outputs": [
    {
     "data": {
      "text/plain": [
       "64"
      ]
     },
     "execution_count": 31,
     "metadata": {},
     "output_type": "execute_result"
    }
   ],
   "source": [
    "(2 ** 2) ** 3"
   ]
  },
  {
   "cell_type": "code",
   "execution_count": 33,
   "id": "42446120-c874-4253-b355-8d5eea72517a",
   "metadata": {},
   "outputs": [],
   "source": [
    "a = b = c = 4"
   ]
  },
  {
   "cell_type": "code",
   "execution_count": 34,
   "id": "5bef1184-e280-4bf7-83ce-6d2710d90967",
   "metadata": {},
   "outputs": [
    {
     "name": "stdout",
     "output_type": "stream",
     "text": [
      "4\n",
      "4\n",
      "4\n"
     ]
    }
   ],
   "source": [
    "print(a)\n",
    "print(b)\n",
    "print(c)"
   ]
  },
  {
   "cell_type": "code",
   "execution_count": 35,
   "id": "714aab22-b1d3-4737-8b4f-0f86b9260c89",
   "metadata": {},
   "outputs": [
    {
     "ename": "SyntaxError",
     "evalue": "invalid syntax (942558331.py, line 1)",
     "output_type": "error",
     "traceback": [
      "\u001b[1;36m  Cell \u001b[1;32mIn[35], line 1\u001b[1;36m\u001b[0m\n\u001b[1;33m    a = b = c += 4\u001b[0m\n\u001b[1;37m              ^\u001b[0m\n\u001b[1;31mSyntaxError\u001b[0m\u001b[1;31m:\u001b[0m invalid syntax\n"
     ]
    }
   ],
   "source": [
    "a = b = c += 4"
   ]
  },
  {
   "cell_type": "code",
   "execution_count": 36,
   "id": "76a35023-0e23-4131-a900-b760bc07500f",
   "metadata": {},
   "outputs": [],
   "source": [
    "c += 4\n",
    "a = b = c"
   ]
  },
  {
   "cell_type": "code",
   "execution_count": 37,
   "id": "85b3c16a-ec29-48cd-af6d-768a35fa1ed3",
   "metadata": {},
   "outputs": [
    {
     "name": "stdout",
     "output_type": "stream",
     "text": [
      "8\n",
      "8\n",
      "8\n"
     ]
    }
   ],
   "source": [
    "print(a)\n",
    "print(b)\n",
    "print(c)"
   ]
  },
  {
   "cell_type": "code",
   "execution_count": 38,
   "id": "fa0e3284-d696-48a3-8552-ca16fca5309f",
   "metadata": {},
   "outputs": [
    {
     "data": {
      "text/plain": [
       "True"
      ]
     },
     "execution_count": 38,
     "metadata": {},
     "output_type": "execute_result"
    }
   ],
   "source": [
    "a = -4\n",
    "b = -3\n",
    "c = -2\n",
    "\n",
    "a < b < c"
   ]
  },
  {
   "cell_type": "code",
   "execution_count": 39,
   "id": "4d226757-bd88-4c6c-9987-4c2c8e79e354",
   "metadata": {},
   "outputs": [
    {
     "data": {
      "text/plain": [
       "True"
      ]
     },
     "execution_count": 39,
     "metadata": {},
     "output_type": "execute_result"
    }
   ],
   "source": [
    "a < b and b < c"
   ]
  },
  {
   "cell_type": "code",
   "execution_count": 40,
   "id": "e4429c74-b6ab-4d93-8754-545527e64d3f",
   "metadata": {},
   "outputs": [
    {
     "data": {
      "text/plain": [
       "False"
      ]
     },
     "execution_count": 40,
     "metadata": {},
     "output_type": "execute_result"
    }
   ],
   "source": [
    "(a < b) < c\n",
    "# 1 < -2"
   ]
  },
  {
   "cell_type": "code",
   "execution_count": null,
   "id": "e9e82eb4-c98d-4af0-a2ad-46f993f1d78d",
   "metadata": {},
   "outputs": [],
   "source": [
    "a < (b < c)"
   ]
  },
  {
   "cell_type": "code",
   "execution_count": 41,
   "id": "8f04b45d-6410-4a65-95e5-81230c6792f6",
   "metadata": {},
   "outputs": [
    {
     "data": {
      "text/plain": [
       "-1"
      ]
     },
     "execution_count": 41,
     "metadata": {},
     "output_type": "execute_result"
    }
   ],
   "source": [
    "-1 ** 4"
   ]
  },
  {
   "cell_type": "code",
   "execution_count": 42,
   "id": "0799eaa8-9836-4521-9e9e-a418b399ff3f",
   "metadata": {},
   "outputs": [
    {
     "data": {
      "text/plain": [
       "-1"
      ]
     },
     "execution_count": 42,
     "metadata": {},
     "output_type": "execute_result"
    }
   ],
   "source": [
    "-1 ** 3"
   ]
  },
  {
   "cell_type": "code",
   "execution_count": 43,
   "id": "25329e00-902c-41f1-bb01-4147c493b321",
   "metadata": {},
   "outputs": [
    {
     "data": {
      "text/plain": [
       "1"
      ]
     },
     "execution_count": 43,
     "metadata": {},
     "output_type": "execute_result"
    }
   ],
   "source": [
    "(-1) ** 4"
   ]
  },
  {
   "cell_type": "code",
   "execution_count": 44,
   "id": "50f6a87d-5589-46de-9445-e7e08fc2d4e8",
   "metadata": {},
   "outputs": [
    {
     "data": {
      "text/plain": [
       "-1"
      ]
     },
     "execution_count": 44,
     "metadata": {},
     "output_type": "execute_result"
    }
   ],
   "source": [
    "(-1) ** 3"
   ]
  },
  {
   "cell_type": "code",
   "execution_count": 45,
   "id": "c23f8bae-9949-401f-afbd-6bbb0ceaafa7",
   "metadata": {},
   "outputs": [
    {
     "data": {
      "text/plain": [
       "True"
      ]
     },
     "execution_count": 45,
     "metadata": {},
     "output_type": "execute_result"
    }
   ],
   "source": [
    "car = 'bmw'\n",
    "budget = 6\n",
    "\n",
    "car == 'bmw' or car == 'benz' and budget >= 5\n",
    "# True or False and True\n",
    "# True or False\n",
    "# True"
   ]
  },
  {
   "cell_type": "code",
   "execution_count": 46,
   "id": "3f9fbc27-0ff6-4a0a-9caa-4b81cd0c4e1e",
   "metadata": {},
   "outputs": [
    {
     "data": {
      "text/plain": [
       "True"
      ]
     },
     "execution_count": 46,
     "metadata": {},
     "output_type": "execute_result"
    }
   ],
   "source": [
    "car = 'bmw'\n",
    "budget = 2\n",
    "\n",
    "car == 'bmw' or car == 'benz' and budget >= 5\n",
    "# True or False and False\n",
    "# True or False\n",
    "# True"
   ]
  },
  {
   "cell_type": "code",
   "execution_count": 49,
   "id": "93990901-a21e-4e04-9cd9-bf7ac62ee6a2",
   "metadata": {},
   "outputs": [
    {
     "data": {
      "text/plain": [
       "True"
      ]
     },
     "execution_count": 49,
     "metadata": {},
     "output_type": "execute_result"
    }
   ],
   "source": [
    "car = 'benz'\n",
    "budget = 6\n",
    "\n",
    "(car == 'bmw' or car == 'benz') and budget >= 5"
   ]
  },
  {
   "cell_type": "code",
   "execution_count": 50,
   "id": "efbf22d0-f576-47c3-b920-a69f0782f838",
   "metadata": {},
   "outputs": [
    {
     "data": {
      "text/plain": [
       "False"
      ]
     },
     "execution_count": 50,
     "metadata": {},
     "output_type": "execute_result"
    }
   ],
   "source": [
    "car = 'tesla'\n",
    "budget = 6\n",
    "\n",
    "(car == 'bmw' or car == 'benz') and budget >= 5\n",
    "# ( False or False ) and True\n",
    "# False and True\n",
    "# False"
   ]
  },
  {
   "cell_type": "code",
   "execution_count": null,
   "id": "965bfdd4-20a1-4935-87d2-3cc3d3f20806",
   "metadata": {},
   "outputs": [],
   "source": []
  }
 ],
 "metadata": {
  "kernelspec": {
   "display_name": "Python 3 (ipykernel)",
   "language": "python",
   "name": "python3"
  },
  "language_info": {
   "codemirror_mode": {
    "name": "ipython",
    "version": 3
   },
   "file_extension": ".py",
   "mimetype": "text/x-python",
   "name": "python",
   "nbconvert_exporter": "python",
   "pygments_lexer": "ipython3",
   "version": "3.10.11"
  }
 },
 "nbformat": 4,
 "nbformat_minor": 5
}
