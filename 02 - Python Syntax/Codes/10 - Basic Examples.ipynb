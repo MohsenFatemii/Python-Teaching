{
 "cells": [
  {
   "cell_type": "markdown",
   "id": "f056ea1a",
   "metadata": {},
   "source": [
    "## Basic Examples"
   ]
  },
  {
   "cell_type": "markdown",
   "id": "82ff7cc5-9696-49de-8d57-520ef0859665",
   "metadata": {},
   "source": [
    "### Example 1\n",
    "\n",
    "Write a program that takes a name as input and prints it."
   ]
  },
  {
   "cell_type": "code",
   "execution_count": 3,
   "id": "48b8e674-44a8-43c3-91a3-0712ea235842",
   "metadata": {},
   "outputs": [
    {
     "name": "stdin",
     "output_type": "stream",
     "text": [
      "Please Enter Your Name : John\n"
     ]
    },
    {
     "name": "stdout",
     "output_type": "stream",
     "text": [
      "Your Entered Name is John\n"
     ]
    }
   ],
   "source": [
    "# write your code here\n",
    "name = input('Please Enter Your Name :')\n",
    "\n",
    "print('Your Entered Name is',name)"
   ]
  },
  {
   "cell_type": "markdown",
   "id": "5a0910d4-50d7-488a-b355-8d7850b4c504",
   "metadata": {},
   "source": [
    "### Example 2\n",
    "\n",
    "Write a program that takes two numbers a and b as input and prints their sum."
   ]
  },
  {
   "cell_type": "code",
   "execution_count": 5,
   "id": "bf9cb194-d5d3-4d35-bfdc-b68fab816e1f",
   "metadata": {},
   "outputs": [
    {
     "name": "stdin",
     "output_type": "stream",
     "text": [
      "Please Enter Number a : 12\n",
      "Please Enter Number b : 13\n"
     ]
    },
    {
     "name": "stdout",
     "output_type": "stream",
     "text": [
      "a+b= 25.0\n"
     ]
    }
   ],
   "source": [
    "# write your code here\n",
    "a = float(input('Please Enter Number a :'))\n",
    "b = float(input('Please Enter Number b :'))\n",
    "\n",
    "result = a + b\n",
    "print('a+b=',result)"
   ]
  },
  {
   "cell_type": "markdown",
   "id": "73e843ca-5210-472a-91a7-8c362c50457b",
   "metadata": {},
   "source": [
    "### Example 3\n",
    "\n",
    "Write a program that takes the air temperature in Fahrenheit as input and converts it to Celsius. The conversion formula is as follows:\n",
    "\n",
    "<center>$°C = (°F - 32) × \\dfrac{5}{9}$</center>"
   ]
  },
  {
   "cell_type": "code",
   "execution_count": 7,
   "id": "8fa0c4ca-81f2-4d8c-aeee-a40d166c6619",
   "metadata": {},
   "outputs": [
    {
     "name": "stdin",
     "output_type": "stream",
     "text": [
      "Please Enter temperature : 32\n"
     ]
    },
    {
     "name": "stdout",
     "output_type": "stream",
     "text": [
      "0.0\n"
     ]
    }
   ],
   "source": [
    "# write your code here\n",
    "temperature = float(input('Please Enter temperature :'))\n",
    "\n",
    "celsius = (temperature - 32) * (5 / 9)\n",
    "print(celsius)"
   ]
  },
  {
   "cell_type": "code",
   "execution_count": null,
   "id": "6f3e4db3-0a24-4ecd-a008-ce346715070d",
   "metadata": {},
   "outputs": [],
   "source": []
  }
 ],
 "metadata": {
  "kernelspec": {
   "display_name": "Python 3 (ipykernel)",
   "language": "python",
   "name": "python3"
  },
  "language_info": {
   "codemirror_mode": {
    "name": "ipython",
    "version": 3
   },
   "file_extension": ".py",
   "mimetype": "text/x-python",
   "name": "python",
   "nbconvert_exporter": "python",
   "pygments_lexer": "ipython3",
   "version": "3.10.11"
  }
 },
 "nbformat": 4,
 "nbformat_minor": 5
}
