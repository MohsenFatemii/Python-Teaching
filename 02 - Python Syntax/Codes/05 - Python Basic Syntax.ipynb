{
 "cells": [
  {
   "cell_type": "markdown",
   "id": "f35e349a",
   "metadata": {},
   "source": [
    "### print\n",
    "\n",
    "The `print()` function is one of the most basic and frequently used functions in Python. It allows you to display text, numbers, or other data on your screen. We need to write what we need to print between paranthesis."
   ]
  },
  {
   "cell_type": "code",
   "execution_count": 1,
   "id": "3edb6dc0",
   "metadata": {},
   "outputs": [
    {
     "name": "stdout",
     "output_type": "stream",
     "text": [
      "12\n"
     ]
    }
   ],
   "source": [
    "print(12)"
   ]
  },
  {
   "cell_type": "code",
   "execution_count": 2,
   "id": "3263af9a",
   "metadata": {},
   "outputs": [
    {
     "name": "stdout",
     "output_type": "stream",
     "text": [
      "12.5\n"
     ]
    }
   ],
   "source": [
    "print(12.5)"
   ]
  },
  {
   "cell_type": "code",
   "execution_count": 3,
   "id": "71036b50",
   "metadata": {},
   "outputs": [
    {
     "name": "stdout",
     "output_type": "stream",
     "text": [
      "Python\n"
     ]
    }
   ],
   "source": [
    "print('Python')"
   ]
  },
  {
   "cell_type": "code",
   "execution_count": 4,
   "id": "c4898feb-ecd1-495e-bc9a-2b2f9d62bbb6",
   "metadata": {},
   "outputs": [
    {
     "name": "stdout",
     "output_type": "stream",
     "text": [
      "Python\n"
     ]
    }
   ],
   "source": [
    "print(\"Python\")"
   ]
  },
  {
   "cell_type": "markdown",
   "id": "dbb225c2-a6a9-445c-adf5-ea26b366ecfb",
   "metadata": {},
   "source": [
    "#### What does the `sep` parameter do?\n",
    "\n",
    "The `sep` parameter helps us to specify what the printed items should be separated by. By default, the items that are printed are separated by spaces(`' '`)."
   ]
  },
  {
   "cell_type": "code",
   "execution_count": 5,
   "id": "11ac9b52",
   "metadata": {},
   "outputs": [
    {
     "name": "stdout",
     "output_type": "stream",
     "text": [
      "2 3 4\n"
     ]
    }
   ],
   "source": [
    "print(2,3,4)"
   ]
  },
  {
   "cell_type": "code",
   "execution_count": 7,
   "id": "10390132",
   "metadata": {},
   "outputs": [
    {
     "name": "stdout",
     "output_type": "stream",
     "text": [
      "2--3--4\n"
     ]
    }
   ],
   "source": [
    "print(2,3,4,sep='--')"
   ]
  },
  {
   "cell_type": "code",
   "execution_count": 8,
   "id": "bfbd2206-a447-4c40-a110-bb0b34895707",
   "metadata": {},
   "outputs": [
    {
     "ename": "SyntaxError",
     "evalue": "positional argument follows keyword argument (1516202892.py, line 1)",
     "output_type": "error",
     "traceback": [
      "\u001b[1;36m  Cell \u001b[1;32mIn[8], line 1\u001b[1;36m\u001b[0m\n\u001b[1;33m    print(sep='--',2,3,4)\u001b[0m\n\u001b[1;37m                        ^\u001b[0m\n\u001b[1;31mSyntaxError\u001b[0m\u001b[1;31m:\u001b[0m positional argument follows keyword argument\n"
     ]
    }
   ],
   "source": [
    "print(sep='--',2,3,4)"
   ]
  },
  {
   "cell_type": "markdown",
   "id": "adaea7ab-c1a0-4407-8e8d-b7b6aebd8283",
   "metadata": {},
   "source": [
    "#### What does the `end` parameter do?\n",
    "\n",
    "By the `end` parameter, we can determine what happens after the introduced values are printed. By default, the print command goes to the next line after finishing displaying the introduced items. It means it uses `Enter ↵`."
   ]
  },
  {
   "cell_type": "code",
   "execution_count": 6,
   "id": "4ac61664-101d-4d9e-af34-2daf51ef75f9",
   "metadata": {},
   "outputs": [
    {
     "name": "stdout",
     "output_type": "stream",
     "text": [
      "2\n",
      "3\n",
      "4\n"
     ]
    }
   ],
   "source": [
    "print(2)\n",
    "print(3)\n",
    "print(4)"
   ]
  },
  {
   "cell_type": "code",
   "execution_count": 9,
   "id": "a36cb0f7",
   "metadata": {},
   "outputs": [
    {
     "name": "stdout",
     "output_type": "stream",
     "text": [
      "2, 3, 4\n"
     ]
    }
   ],
   "source": [
    "print(2,end=', ')\n",
    "print(3,end=', ')\n",
    "print(4)"
   ]
  },
  {
   "cell_type": "markdown",
   "id": "cc98d071",
   "metadata": {},
   "source": [
    "### comments\n",
    "\n",
    "Comments help explain your code. They’re ignored by the Python interpreter and don’t affect program execution."
   ]
  },
  {
   "cell_type": "markdown",
   "id": "397d460e",
   "metadata": {},
   "source": [
    "##### Single-line comment\n",
    "\n",
    "It starts with `#` and it is useful for short explanations."
   ]
  },
  {
   "cell_type": "code",
   "execution_count": 10,
   "id": "78bf0652",
   "metadata": {},
   "outputs": [
    {
     "name": "stdout",
     "output_type": "stream",
     "text": [
      "Python\n"
     ]
    }
   ],
   "source": [
    "# The following line will print the word Python\n",
    "print('Python')"
   ]
  },
  {
   "cell_type": "code",
   "execution_count": 11,
   "id": "448462b6",
   "metadata": {},
   "outputs": [
    {
     "name": "stdout",
     "output_type": "stream",
     "text": [
      "Python\n"
     ]
    }
   ],
   "source": [
    "print('Python') # The following line will print the word Python"
   ]
  },
  {
   "cell_type": "code",
   "execution_count": null,
   "id": "d5ce0e69",
   "metadata": {},
   "outputs": [],
   "source": [
    "print('Python')\n",
    "# The following line will print the word Python"
   ]
  },
  {
   "cell_type": "code",
   "execution_count": null,
   "id": "b5ee23d4",
   "metadata": {},
   "outputs": [],
   "source": [
    "# In this section i will use print command \n",
    "# The following line will print the word Python\n",
    "print('Python')"
   ]
  },
  {
   "cell_type": "code",
   "execution_count": 13,
   "id": "44918df7",
   "metadata": {},
   "outputs": [],
   "source": [
    "# you can comment multiple lines by selecting them and pressing ctrl+/\n",
    "# print('Hello')\n",
    "# print('from')\n",
    "# print('Python')"
   ]
  },
  {
   "cell_type": "markdown",
   "id": "63aeb1bc",
   "metadata": {},
   "source": [
    "##### Multi-line Comments\n",
    "\n",
    "When there is a lot of explanation to provide, we need multi-line comments. Multi-line comments can be defined by a series of `#`, but there is another way for defining multi-line comments that uses strings(`\"\"\"` or `'''`)."
   ]
  },
  {
   "cell_type": "markdown",
   "id": "ff9dd3d6-8301-49ef-9a06-af9ce9874cbb",
   "metadata": {},
   "source": [
    "You can also define single-line comments using strings."
   ]
  },
  {
   "cell_type": "code",
   "execution_count": 14,
   "id": "d7f98328",
   "metadata": {},
   "outputs": [
    {
     "name": "stdout",
     "output_type": "stream",
     "text": [
      "Python\n"
     ]
    }
   ],
   "source": [
    "'The following line will print Python'\n",
    "print('Python')"
   ]
  },
  {
   "cell_type": "code",
   "execution_count": 15,
   "id": "a0f5ac36",
   "metadata": {},
   "outputs": [
    {
     "name": "stdout",
     "output_type": "stream",
     "text": [
      "Python\n"
     ]
    }
   ],
   "source": [
    "\"The following line will print Python\"\n",
    "print('Python')"
   ]
  },
  {
   "cell_type": "code",
   "execution_count": 16,
   "id": "34d0090f",
   "metadata": {},
   "outputs": [
    {
     "ename": "SyntaxError",
     "evalue": "unterminated string literal (detected at line 1) (2081534546.py, line 1)",
     "output_type": "error",
     "traceback": [
      "\u001b[1;36m  Cell \u001b[1;32mIn[16], line 1\u001b[1;36m\u001b[0m\n\u001b[1;33m    'The following line will print Python\"\u001b[0m\n\u001b[1;37m    ^\u001b[0m\n\u001b[1;31mSyntaxError\u001b[0m\u001b[1;31m:\u001b[0m unterminated string literal (detected at line 1)\n"
     ]
    }
   ],
   "source": [
    "'The following line will print Python\"\n",
    "print('Python')"
   ]
  },
  {
   "cell_type": "code",
   "execution_count": 17,
   "id": "fa07f49b-6776-4019-810e-00066fdf90b6",
   "metadata": {},
   "outputs": [
    {
     "ename": "SyntaxError",
     "evalue": "unterminated string literal (detected at line 1) (3853329878.py, line 1)",
     "output_type": "error",
     "traceback": [
      "\u001b[1;36m  Cell \u001b[1;32mIn[17], line 1\u001b[1;36m\u001b[0m\n\u001b[1;33m    \"The following line will print Python'\u001b[0m\n\u001b[1;37m    ^\u001b[0m\n\u001b[1;31mSyntaxError\u001b[0m\u001b[1;31m:\u001b[0m unterminated string literal (detected at line 1)\n"
     ]
    }
   ],
   "source": [
    "\"The following line will print Python'\n",
    "print('Python')"
   ]
  },
  {
   "cell_type": "code",
   "execution_count": 18,
   "id": "2bf916e5-33b4-42fa-aae0-d81f087759cb",
   "metadata": {},
   "outputs": [
    {
     "name": "stdout",
     "output_type": "stream",
     "text": [
      "Python\n"
     ]
    }
   ],
   "source": [
    "# Here is \n",
    "# a multi-line comment\n",
    "# that tries to describe\n",
    "# the print statement\n",
    "print('Python')"
   ]
  },
  {
   "cell_type": "code",
   "execution_count": 19,
   "id": "687048c7",
   "metadata": {},
   "outputs": [
    {
     "name": "stdout",
     "output_type": "stream",
     "text": [
      "Python\n"
     ]
    }
   ],
   "source": [
    "'''\n",
    "Here is \n",
    "a multi-line comment\n",
    "that tries to describe\n",
    "the print statement\n",
    "'''\n",
    "print('Python')"
   ]
  },
  {
   "cell_type": "code",
   "execution_count": 20,
   "id": "45bb32cb",
   "metadata": {},
   "outputs": [
    {
     "name": "stdout",
     "output_type": "stream",
     "text": [
      "Python\n"
     ]
    }
   ],
   "source": [
    "\"\"\"\n",
    "Here is \n",
    "a multi-line comment\n",
    "that tries to describe\n",
    "the print statement\n",
    "\"\"\"\n",
    "print('Python')"
   ]
  },
  {
   "cell_type": "code",
   "execution_count": 21,
   "id": "113be647",
   "metadata": {
    "scrolled": true
   },
   "outputs": [
    {
     "ename": "SyntaxError",
     "evalue": "incomplete input (1376943382.py, line 1)",
     "output_type": "error",
     "traceback": [
      "\u001b[1;36m  Cell \u001b[1;32mIn[21], line 1\u001b[1;36m\u001b[0m\n\u001b[1;33m    '''\u001b[0m\n\u001b[1;37m    ^\u001b[0m\n\u001b[1;31mSyntaxError\u001b[0m\u001b[1;31m:\u001b[0m incomplete input\n"
     ]
    }
   ],
   "source": [
    "'''\n",
    "Here is \n",
    "a multi-line comment\n",
    "that tries to describe\n",
    "the print statement\n",
    "\"\"\"\n",
    "print('Python')"
   ]
  },
  {
   "cell_type": "code",
   "execution_count": 22,
   "id": "54a45302-b490-4d35-928e-81997a00ab33",
   "metadata": {},
   "outputs": [
    {
     "ename": "SyntaxError",
     "evalue": "incomplete input (3046099030.py, line 1)",
     "output_type": "error",
     "traceback": [
      "\u001b[1;36m  Cell \u001b[1;32mIn[22], line 1\u001b[1;36m\u001b[0m\n\u001b[1;33m    \"\"\"\u001b[0m\n\u001b[1;37m    ^\u001b[0m\n\u001b[1;31mSyntaxError\u001b[0m\u001b[1;31m:\u001b[0m incomplete input\n"
     ]
    }
   ],
   "source": [
    "\"\"\"\n",
    "Here is \n",
    "a multi-line comment\n",
    "that tries to describe\n",
    "the print statement\n",
    "'''\n",
    "print('Python')"
   ]
  },
  {
   "cell_type": "code",
   "execution_count": null,
   "id": "1e8e6181-969b-46b9-bf86-d8a995af7b35",
   "metadata": {},
   "outputs": [],
   "source": []
  }
 ],
 "metadata": {
  "kernelspec": {
   "display_name": "Python 3 (ipykernel)",
   "language": "python",
   "name": "python3"
  },
  "language_info": {
   "codemirror_mode": {
    "name": "ipython",
    "version": 3
   },
   "file_extension": ".py",
   "mimetype": "text/x-python",
   "name": "python",
   "nbconvert_exporter": "python",
   "pygments_lexer": "ipython3",
   "version": "3.10.11"
  }
 },
 "nbformat": 4,
 "nbformat_minor": 5
}
