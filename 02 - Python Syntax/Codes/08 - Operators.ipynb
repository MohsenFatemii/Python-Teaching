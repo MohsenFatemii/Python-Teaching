{
 "cells": [
  {
   "cell_type": "markdown",
   "id": "f056ea1a",
   "metadata": {},
   "source": [
    "## Operators in python"
   ]
  },
  {
   "cell_type": "markdown",
   "id": "43fbbbbe-b1fc-499f-8fdf-94e5dc328246",
   "metadata": {},
   "source": [
    "#### Arithmetic operators"
   ]
  },
  {
   "cell_type": "code",
   "execution_count": 8,
   "id": "df9ffd90",
   "metadata": {},
   "outputs": [
    {
     "name": "stdout",
     "output_type": "stream",
     "text": [
      "a+b =  12\n",
      "a-b =  2\n",
      "a*b =  35\n",
      "a/b =  1.4\n",
      "a//b =  1\n",
      "a%b =  2\n",
      "a**b =  16807\n"
     ]
    }
   ],
   "source": [
    "a,b = 7,5\n",
    "print('a+b = ',a+b)\n",
    "print('a-b = ',a-b)\n",
    "print('a*b = ',a*b)\n",
    "print('a/b = ',a/b)\n",
    "print('a//b = ',a//b)\n",
    "print('a%b = ',a%b)\n",
    "print('a**b = ',a**b)"
   ]
  },
  {
   "cell_type": "code",
   "execution_count": 12,
   "id": "ff9a9c86-2e33-4cdd-9d4d-0e15e3acda8b",
   "metadata": {},
   "outputs": [
    {
     "ename": "SyntaxError",
     "evalue": "invalid syntax (537143806.py, line 1)",
     "output_type": "error",
     "traceback": [
      "\u001b[1;36m  Cell \u001b[1;32mIn[12], line 1\u001b[1;36m\u001b[0m\n\u001b[1;33m    a * * b\u001b[0m\n\u001b[1;37m        ^\u001b[0m\n\u001b[1;31mSyntaxError\u001b[0m\u001b[1;31m:\u001b[0m invalid syntax\n"
     ]
    }
   ],
   "source": [
    "a * * b"
   ]
  },
  {
   "cell_type": "code",
   "execution_count": 13,
   "id": "2384085b",
   "metadata": {},
   "outputs": [
    {
     "data": {
      "text/plain": [
       "13"
      ]
     },
     "execution_count": 13,
     "metadata": {},
     "output_type": "execute_result"
    }
   ],
   "source": [
    "3*5-2"
   ]
  },
  {
   "cell_type": "code",
   "execution_count": 14,
   "id": "fa0d6b26",
   "metadata": {},
   "outputs": [
    {
     "data": {
      "text/plain": [
       "7.5"
      ]
     },
     "execution_count": 14,
     "metadata": {},
     "output_type": "execute_result"
    }
   ],
   "source": [
    "3*5/2"
   ]
  },
  {
   "cell_type": "code",
   "execution_count": 4,
   "id": "6defe229",
   "metadata": {},
   "outputs": [
    {
     "data": {
      "text/plain": [
       "1.2"
      ]
     },
     "execution_count": 4,
     "metadata": {},
     "output_type": "execute_result"
    }
   ],
   "source": [
    "3/5*2"
   ]
  },
  {
   "cell_type": "code",
   "execution_count": 1,
   "id": "8856a071",
   "metadata": {},
   "outputs": [
    {
     "data": {
      "text/plain": [
       "256"
      ]
     },
     "execution_count": 1,
     "metadata": {},
     "output_type": "execute_result"
    }
   ],
   "source": [
    "2**2**3"
   ]
  },
  {
   "cell_type": "markdown",
   "id": "df3cfc45",
   "metadata": {},
   "source": [
    "You can learn more about operators precedence from [this link](https://www.programiz.com/python-programming/precedence-associativity)."
   ]
  },
  {
   "cell_type": "code",
   "execution_count": 2,
   "id": "9f3f7830",
   "metadata": {},
   "outputs": [
    {
     "data": {
      "text/plain": [
       "64"
      ]
     },
     "execution_count": 2,
     "metadata": {},
     "output_type": "execute_result"
    }
   ],
   "source": [
    "(2**2)**3"
   ]
  },
  {
   "cell_type": "markdown",
   "id": "956244de",
   "metadata": {},
   "source": [
    "##### Comparision Operators"
   ]
  },
  {
   "cell_type": "code",
   "execution_count": 15,
   "id": "3f696851",
   "metadata": {},
   "outputs": [
    {
     "name": "stdout",
     "output_type": "stream",
     "text": [
      "a>b : False\n",
      "a>=b : False\n",
      "a<b : True\n",
      "a<=b : True\n",
      "a==b : False\n",
      "a!=b : True\n"
     ]
    }
   ],
   "source": [
    "a,b = 1,2\n",
    "print('a>b :' ,a>b)  # is a strictly larger than b?\n",
    "print('a>=b :',a>=b) # is a larger than or equal to b?\n",
    "print('a<b :' ,a<b)  # is a strictly less than b?\n",
    "print('a<=b :',a<=b) # is a less than or equal to b?\n",
    "print('a==b :',a==b) # is a equal to b?\n",
    "print('a!=b :',a!=b) # is a not equal to b?"
   ]
  },
  {
   "cell_type": "code",
   "execution_count": 16,
   "id": "4e42f780",
   "metadata": {},
   "outputs": [
    {
     "ename": "SyntaxError",
     "evalue": "invalid syntax (2231250520.py, line 2)",
     "output_type": "error",
     "traceback": [
      "\u001b[1;36m  Cell \u001b[1;32mIn[16], line 2\u001b[1;36m\u001b[0m\n\u001b[1;33m    a=>b\u001b[0m\n\u001b[1;37m      ^\u001b[0m\n\u001b[1;31mSyntaxError\u001b[0m\u001b[1;31m:\u001b[0m invalid syntax\n"
     ]
    }
   ],
   "source": [
    "a,b = 1,2\n",
    "a=>b"
   ]
  },
  {
   "cell_type": "code",
   "execution_count": 19,
   "id": "df78a740-ec5d-47cd-afc3-240d1e0b0e3a",
   "metadata": {},
   "outputs": [
    {
     "data": {
      "text/plain": [
       "False"
      ]
     },
     "execution_count": 19,
     "metadata": {},
     "output_type": "execute_result"
    }
   ],
   "source": [
    "a == b"
   ]
  },
  {
   "cell_type": "markdown",
   "id": "4593521d",
   "metadata": {},
   "source": [
    "##### Assignment Operators"
   ]
  },
  {
   "cell_type": "code",
   "execution_count": 20,
   "id": "ef895931",
   "metadata": {},
   "outputs": [],
   "source": [
    "x = 4"
   ]
  },
  {
   "cell_type": "code",
   "execution_count": 21,
   "id": "ca5c08d0",
   "metadata": {},
   "outputs": [
    {
     "ename": "SyntaxError",
     "evalue": "cannot assign to literal here. Maybe you meant '==' instead of '='? (1228457407.py, line 1)",
     "output_type": "error",
     "traceback": [
      "\u001b[1;36m  Cell \u001b[1;32mIn[21], line 1\u001b[1;36m\u001b[0m\n\u001b[1;33m    4 = x\u001b[0m\n\u001b[1;37m    ^\u001b[0m\n\u001b[1;31mSyntaxError\u001b[0m\u001b[1;31m:\u001b[0m cannot assign to literal here. Maybe you meant '==' instead of '='?\n"
     ]
    }
   ],
   "source": [
    "4 = x"
   ]
  },
  {
   "cell_type": "code",
   "execution_count": 24,
   "id": "15027833",
   "metadata": {},
   "outputs": [
    {
     "name": "stdout",
     "output_type": "stream",
     "text": [
      "8\n"
     ]
    }
   ],
   "source": [
    "x = 4\n",
    "x = x + 4\n",
    "print(x)"
   ]
  },
  {
   "cell_type": "code",
   "execution_count": 25,
   "id": "f3a9ffc6",
   "metadata": {},
   "outputs": [
    {
     "name": "stdout",
     "output_type": "stream",
     "text": [
      "8\n"
     ]
    }
   ],
   "source": [
    "x = 4\n",
    "x += 4 # x = x + 4\n",
    "print(x)"
   ]
  },
  {
   "cell_type": "code",
   "execution_count": 26,
   "id": "9ad7a67b",
   "metadata": {},
   "outputs": [
    {
     "ename": "SyntaxError",
     "evalue": "invalid syntax (913594002.py, line 2)",
     "output_type": "error",
     "traceback": [
      "\u001b[1;36m  Cell \u001b[1;32mIn[26], line 2\u001b[1;36m\u001b[0m\n\u001b[1;33m    x + = 4\u001b[0m\n\u001b[1;37m        ^\u001b[0m\n\u001b[1;31mSyntaxError\u001b[0m\u001b[1;31m:\u001b[0m invalid syntax\n"
     ]
    }
   ],
   "source": [
    "x = 4\n",
    "x + = 4\n",
    "print(x)"
   ]
  },
  {
   "cell_type": "code",
   "execution_count": 27,
   "id": "fb1017a0",
   "metadata": {},
   "outputs": [
    {
     "name": "stdout",
     "output_type": "stream",
     "text": [
      "0\n"
     ]
    }
   ],
   "source": [
    "x = 4\n",
    "x -= 4 # x = x - 4\n",
    "print(x)"
   ]
  },
  {
   "cell_type": "code",
   "execution_count": 28,
   "id": "930aee97",
   "metadata": {},
   "outputs": [
    {
     "name": "stdout",
     "output_type": "stream",
     "text": [
      "16\n"
     ]
    }
   ],
   "source": [
    "x = 4\n",
    "x *= 4 # x = x * 4\n",
    "print(x)"
   ]
  },
  {
   "cell_type": "code",
   "execution_count": 29,
   "id": "bf807d51",
   "metadata": {},
   "outputs": [
    {
     "name": "stdout",
     "output_type": "stream",
     "text": [
      "1.0\n"
     ]
    }
   ],
   "source": [
    "x = 4\n",
    "x /= 4 # x = x / 4\n",
    "print(x)"
   ]
  },
  {
   "cell_type": "code",
   "execution_count": 30,
   "id": "32fc392c",
   "metadata": {},
   "outputs": [
    {
     "name": "stdout",
     "output_type": "stream",
     "text": [
      "1\n"
     ]
    }
   ],
   "source": [
    "x = 4\n",
    "x //= 4 # x = x // 4\n",
    "print(x)"
   ]
  },
  {
   "cell_type": "code",
   "execution_count": 31,
   "id": "37139ffb",
   "metadata": {},
   "outputs": [
    {
     "name": "stdout",
     "output_type": "stream",
     "text": [
      "0\n"
     ]
    }
   ],
   "source": [
    "x = 4\n",
    "x %= 4 # x = x % 4\n",
    "print(x)"
   ]
  },
  {
   "cell_type": "code",
   "execution_count": 32,
   "id": "d7b8c681",
   "metadata": {},
   "outputs": [
    {
     "name": "stdout",
     "output_type": "stream",
     "text": [
      "256\n"
     ]
    }
   ],
   "source": [
    "x = 4\n",
    "x **= 4 # x = x ** 4\n",
    "print(x)"
   ]
  },
  {
   "cell_type": "markdown",
   "id": "b6df00f6-5c15-4c5b-af70-36040262bbd4",
   "metadata": {},
   "source": [
    "#### Membership Operators"
   ]
  },
  {
   "cell_type": "code",
   "execution_count": 33,
   "id": "ffef6989-4fba-4660-b008-0c5ff2d24cf5",
   "metadata": {},
   "outputs": [
    {
     "name": "stdout",
     "output_type": "stream",
     "text": [
      "True\n",
      "False\n"
     ]
    }
   ],
   "source": [
    "numbers = [1,2,3,4,5]\n",
    "\n",
    "print(3 in numbers)\n",
    "print(7 in numbers)"
   ]
  },
  {
   "cell_type": "code",
   "execution_count": 34,
   "id": "141d23df-363a-4180-b370-09a1babdc935",
   "metadata": {},
   "outputs": [
    {
     "name": "stdout",
     "output_type": "stream",
     "text": [
      "False\n",
      "True\n"
     ]
    }
   ],
   "source": [
    "numbers = [1,2,3,4,5]\n",
    "\n",
    "print(3 not in numbers)\n",
    "print(7 not in numbers)"
   ]
  },
  {
   "cell_type": "markdown",
   "id": "49623d5a",
   "metadata": {},
   "source": [
    "#### Logical Operators"
   ]
  },
  {
   "cell_type": "code",
   "execution_count": 37,
   "id": "ec92a65f-08d9-43b5-976c-17ffd6bfda3e",
   "metadata": {},
   "outputs": [
    {
     "data": {
      "text/plain": [
       "True"
      ]
     },
     "execution_count": 37,
     "metadata": {},
     "output_type": "execute_result"
    }
   ],
   "source": [
    "6 > 5"
   ]
  },
  {
   "cell_type": "code",
   "execution_count": 38,
   "id": "2af509cc-ec68-4feb-bafe-d48d26a2f9e6",
   "metadata": {},
   "outputs": [
    {
     "data": {
      "text/plain": [
       "False"
      ]
     },
     "execution_count": 38,
     "metadata": {},
     "output_type": "execute_result"
    }
   ],
   "source": [
    "not 6 > 5"
   ]
  },
  {
   "cell_type": "code",
   "execution_count": 43,
   "id": "74ca8477-2f4f-4b46-8a69-a2f7d8247ba3",
   "metadata": {},
   "outputs": [
    {
     "data": {
      "text/plain": [
       "True"
      ]
     },
     "execution_count": 43,
     "metadata": {},
     "output_type": "execute_result"
    }
   ],
   "source": [
    "light = True\n",
    "electricity = True\n",
    "\n",
    "light and electricity"
   ]
  },
  {
   "cell_type": "code",
   "execution_count": 46,
   "id": "15c2d97d-b9e2-43bc-b6da-df09078f8a49",
   "metadata": {},
   "outputs": [
    {
     "data": {
      "text/plain": [
       "False"
      ]
     },
     "execution_count": 46,
     "metadata": {},
     "output_type": "execute_result"
    }
   ],
   "source": [
    "condition1 = False\n",
    "condition2 = False\n",
    "\n",
    "condition1 or condition2"
   ]
  },
  {
   "cell_type": "code",
   "execution_count": 49,
   "id": "b0b5b23e-0e14-4bbc-b0f2-0de69d15ce7f",
   "metadata": {},
   "outputs": [
    {
     "data": {
      "text/plain": [
       "True"
      ]
     },
     "execution_count": 49,
     "metadata": {},
     "output_type": "execute_result"
    }
   ],
   "source": [
    "n = 10\n",
    "\n",
    "n > 7"
   ]
  },
  {
   "cell_type": "code",
   "execution_count": 52,
   "id": "1de0d10b-04b1-445e-adc0-0d8e086829ad",
   "metadata": {},
   "outputs": [
    {
     "data": {
      "text/plain": [
       "False"
      ]
     },
     "execution_count": 52,
     "metadata": {},
     "output_type": "execute_result"
    }
   ],
   "source": [
    "n = 5\n",
    "\n",
    "n > 7 and n < 18"
   ]
  },
  {
   "cell_type": "code",
   "execution_count": 55,
   "id": "bcce1ecb-3d57-4416-98e9-28db3c71eedf",
   "metadata": {},
   "outputs": [
    {
     "data": {
      "text/plain": [
       "False"
      ]
     },
     "execution_count": 55,
     "metadata": {},
     "output_type": "execute_result"
    }
   ],
   "source": [
    "n = 19\n",
    "\n",
    "7 < n < 18"
   ]
  },
  {
   "cell_type": "code",
   "execution_count": 58,
   "id": "9a18394b-8349-46f6-bb02-afb8b1ac31b3",
   "metadata": {},
   "outputs": [
    {
     "data": {
      "text/plain": [
       "True"
      ]
     },
     "execution_count": 58,
     "metadata": {},
     "output_type": "execute_result"
    }
   ],
   "source": [
    "n = 19\n",
    "\n",
    "n < 7 or n > 18"
   ]
  },
  {
   "cell_type": "markdown",
   "id": "6f1a4aab",
   "metadata": {},
   "source": [
    "#### Same Operators for Strings"
   ]
  },
  {
   "cell_type": "code",
   "execution_count": 59,
   "id": "66b07436",
   "metadata": {},
   "outputs": [
    {
     "data": {
      "text/plain": [
       "'hellofrom python'"
      ]
     },
     "execution_count": 59,
     "metadata": {},
     "output_type": "execute_result"
    }
   ],
   "source": [
    "text1 = 'hello'\n",
    "text2 = 'from python'\n",
    "\n",
    "text1 + text2 # concatenate"
   ]
  },
  {
   "cell_type": "code",
   "execution_count": 60,
   "id": "b0aa3de1",
   "metadata": {},
   "outputs": [
    {
     "data": {
      "text/plain": [
       "'1, 1, 1, 1, 1, '"
      ]
     },
     "execution_count": 60,
     "metadata": {},
     "output_type": "execute_result"
    }
   ],
   "source": [
    "text = '1, '\n",
    "\n",
    "text*5"
   ]
  },
  {
   "cell_type": "code",
   "execution_count": 61,
   "id": "d11c115e",
   "metadata": {},
   "outputs": [
    {
     "ename": "TypeError",
     "evalue": "can't multiply sequence by non-int of type 'str'",
     "output_type": "error",
     "traceback": [
      "\u001b[1;31m---------------------------------------------------------------------------\u001b[0m",
      "\u001b[1;31mTypeError\u001b[0m                                 Traceback (most recent call last)",
      "Cell \u001b[1;32mIn[61], line 4\u001b[0m\n\u001b[0;32m      1\u001b[0m text1 \u001b[38;5;241m=\u001b[39m \u001b[38;5;124m'\u001b[39m\u001b[38;5;124mhello\u001b[39m\u001b[38;5;124m'\u001b[39m\n\u001b[0;32m      2\u001b[0m text2 \u001b[38;5;241m=\u001b[39m \u001b[38;5;124m'\u001b[39m\u001b[38;5;124mfrom python\u001b[39m\u001b[38;5;124m'\u001b[39m\n\u001b[1;32m----> 4\u001b[0m \u001b[43mtext1\u001b[49m\u001b[43m \u001b[49m\u001b[38;5;241;43m*\u001b[39;49m\u001b[43m \u001b[49m\u001b[43mtext2\u001b[49m\n",
      "\u001b[1;31mTypeError\u001b[0m: can't multiply sequence by non-int of type 'str'"
     ]
    }
   ],
   "source": [
    "text1 = 'hello'\n",
    "text2 = 'from python'\n",
    "\n",
    "text1 * text2"
   ]
  },
  {
   "cell_type": "markdown",
   "id": "89896a1e",
   "metadata": {},
   "source": [
    "#### Comparison Operators for strings"
   ]
  },
  {
   "cell_type": "code",
   "execution_count": 62,
   "id": "fbe5d682",
   "metadata": {},
   "outputs": [
    {
     "ename": "TypeError",
     "evalue": "'>' not supported between instances of 'str' and 'int'",
     "output_type": "error",
     "traceback": [
      "\u001b[1;31m---------------------------------------------------------------------------\u001b[0m",
      "\u001b[1;31mTypeError\u001b[0m                                 Traceback (most recent call last)",
      "Cell \u001b[1;32mIn[62], line 4\u001b[0m\n\u001b[0;32m      1\u001b[0m a \u001b[38;5;241m=\u001b[39m \u001b[38;5;124m'\u001b[39m\u001b[38;5;124mPython\u001b[39m\u001b[38;5;124m'\u001b[39m\n\u001b[0;32m      2\u001b[0m b \u001b[38;5;241m=\u001b[39m \u001b[38;5;241m4\u001b[39m\n\u001b[1;32m----> 4\u001b[0m \u001b[43ma\u001b[49m\u001b[38;5;241;43m>\u001b[39;49m\u001b[43mb\u001b[49m\n",
      "\u001b[1;31mTypeError\u001b[0m: '>' not supported between instances of 'str' and 'int'"
     ]
    }
   ],
   "source": [
    "a = 'Python'\n",
    "b = 4\n",
    "\n",
    "a>b"
   ]
  },
  {
   "cell_type": "code",
   "execution_count": 64,
   "id": "32689961",
   "metadata": {},
   "outputs": [
    {
     "data": {
      "text/plain": [
       "False"
      ]
     },
     "execution_count": 64,
     "metadata": {},
     "output_type": "execute_result"
    }
   ],
   "source": [
    "name1 = 'Aliasghar'\n",
    "name2 = 'Aliakbar'\n",
    "\n",
    "name1>name2 # Lexicographical comparison"
   ]
  },
  {
   "cell_type": "code",
   "execution_count": 65,
   "id": "d98487f5",
   "metadata": {},
   "outputs": [
    {
     "data": {
      "text/plain": [
       "True"
      ]
     },
     "execution_count": 65,
     "metadata": {},
     "output_type": "execute_result"
    }
   ],
   "source": [
    "name1 = 'AliAkbar'\n",
    "name2 = 'Aliakbar'\n",
    "\n",
    "name1<name2 # Lexicographical comparison"
   ]
  },
  {
   "cell_type": "code",
   "execution_count": 66,
   "id": "7e35fbf4",
   "metadata": {},
   "outputs": [
    {
     "data": {
      "text/plain": [
       "False"
      ]
     },
     "execution_count": 66,
     "metadata": {},
     "output_type": "execute_result"
    }
   ],
   "source": [
    "name1 = 'AliAkbar'\n",
    "name2 = 'Aliakbar'\n",
    "\n",
    "name1==name2 # Lexicographical comparison"
   ]
  },
  {
   "cell_type": "code",
   "execution_count": null,
   "id": "e673f0bc-d0a2-4612-835a-44c09d0c073f",
   "metadata": {},
   "outputs": [],
   "source": []
  }
 ],
 "metadata": {
  "kernelspec": {
   "display_name": "Python 3 (ipykernel)",
   "language": "python",
   "name": "python3"
  },
  "language_info": {
   "codemirror_mode": {
    "name": "ipython",
    "version": 3
   },
   "file_extension": ".py",
   "mimetype": "text/x-python",
   "name": "python",
   "nbconvert_exporter": "python",
   "pygments_lexer": "ipython3",
   "version": "3.10.11"
  }
 },
 "nbformat": 4,
 "nbformat_minor": 5
}
